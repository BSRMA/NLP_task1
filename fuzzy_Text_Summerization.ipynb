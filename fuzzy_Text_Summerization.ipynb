{
  "cells": [
    {
      "cell_type": "code",
      "execution_count": null,
      "metadata": {
        "id": "EGwYyRoR-n5m",
        "colab": {
          "base_uri": "https://localhost:8080/"
        },
        "outputId": "15759151-d5df-4f8b-e9cd-f0d76cb07ddb"
      },
      "outputs": [
        {
          "output_type": "stream",
          "name": "stdout",
          "text": [
            "Mounted at /content/drive\n"
          ]
        }
      ],
      "source": [
        "from google.colab import drive\n",
        "drive.mount('/content/drive')"
      ]
    },
    {
      "cell_type": "markdown",
      "source": [
        "# **Annual Report**"
      ],
      "metadata": {
        "id": "hRgNJ6pMDib9"
      }
    },
    {
      "cell_type": "code",
      "execution_count": null,
      "metadata": {
        "id": "TLml7AUeOHN9"
      },
      "outputs": [],
      "source": [
        "!tar -xf '/content/drive/MyDrive/NLP/fns2020_dataset.tar.gz'"
      ]
    },
    {
      "cell_type": "code",
      "execution_count": null,
      "metadata": {
        "id": "RC6UpJNMO3MV"
      },
      "outputs": [],
      "source": [
        "!tar -xf '/content/training.tar.gz'\n",
        "!tar -xf '/content/validation.tar.gz'"
      ]
    },
    {
      "cell_type": "markdown",
      "source": [
        "# **Importing modules**"
      ],
      "metadata": {
        "id": "xBaKg-nEXoZl"
      }
    },
    {
      "cell_type": "code",
      "execution_count": null,
      "metadata": {
        "id": "aDQvj5_CAInM",
        "colab": {
          "base_uri": "https://localhost:8080/"
        },
        "outputId": "faa2fa09-fafa-49bc-a937-799b6356bf54"
      },
      "outputs": [
        {
          "output_type": "stream",
          "name": "stderr",
          "text": [
            "[nltk_data] Downloading package averaged_perceptron_tagger to\n",
            "[nltk_data]     /root/nltk_data...\n",
            "[nltk_data]   Unzipping taggers/averaged_perceptron_tagger.zip.\n",
            "[nltk_data] Downloading package stopwords to /root/nltk_data...\n",
            "[nltk_data]   Unzipping corpora/stopwords.zip.\n",
            "[nltk_data] Downloading package punkt to /root/nltk_data...\n",
            "[nltk_data]   Unzipping tokenizers/punkt.zip.\n",
            "[nltk_data] Downloading package wordnet to /root/nltk_data...\n"
          ]
        },
        {
          "output_type": "execute_result",
          "data": {
            "text/plain": [
              "True"
            ]
          },
          "metadata": {},
          "execution_count": 2
        }
      ],
      "source": [
        "# Import necessary libraries from the Natural Language Toolkit (nltk) for text processing.\n",
        "import nltk\n",
        "import os\n",
        "import re\n",
        "import math\n",
        "from nltk.stem import WordNetLemmatizer\n",
        "from nltk.corpus import stopwords\n",
        "from nltk.tokenize import sent_tokenize,word_tokenize\n",
        "\n",
        "# Import pandas for data manipulation and analysis\n",
        "import pandas as pd\n",
        "import numpy as np\n",
        "# Download essential nltk modules for text processing\n",
        "nltk.download('averaged_perceptron_tagger')  # Part-of-speech tagging\n",
        "nltk.download('stopwords') # Common English stopwords\n",
        "nltk.download('punkt') # Tokenizer\n",
        "nltk.download('wordnet') # Lexical database for English words"
      ]
    },
    {
      "cell_type": "code",
      "execution_count": null,
      "metadata": {
        "id": "5D4Q4uHQt6sy",
        "colab": {
          "base_uri": "https://localhost:8080/"
        },
        "outputId": "96e82d17-89c7-442a-e320-e05abe6156f7"
      },
      "outputs": [
        {
          "output_type": "stream",
          "name": "stderr",
          "text": [
            "[nltk_data] Downloading package words to /root/nltk_data...\n",
            "[nltk_data]   Unzipping corpora/words.zip.\n"
          ]
        }
      ],
      "source": [
        "# Import the 'words' corpus from nltk, which contains a list of English words\n",
        "from nltk.corpus import words\n",
        "\n",
        "# Download the 'words' corpus if not already present in the nltk data directory\n",
        "nltk.download('words')\n",
        "\n",
        "# Create an instance of WordNetLemmatizer from nltk for lemmatization of words\n",
        "lt = WordNetLemmatizer()\n",
        "\n",
        "# Create a set of English stopwords using nltk's stopwords corpus\n",
        "stop_words = set(stopwords.words('english'))"
      ]
    },
    {
      "cell_type": "code",
      "source": [
        "#Spacy for sentence tokenization\n",
        "!pip install spacy\n",
        "import spacy\n",
        "nlp = spacy.load(\"en_core_web_sm\")"
      ],
      "metadata": {
        "id": "a7h5cg5zCg6c",
        "colab": {
          "base_uri": "https://localhost:8080/"
        },
        "outputId": "b86cb103-8d58-4657-ef93-738206f3463c"
      },
      "execution_count": null,
      "outputs": [
        {
          "output_type": "stream",
          "name": "stdout",
          "text": [
            "Requirement already satisfied: spacy in /usr/local/lib/python3.10/dist-packages (3.7.3)\n",
            "Requirement already satisfied: spacy-legacy<3.1.0,>=3.0.11 in /usr/local/lib/python3.10/dist-packages (from spacy) (3.0.12)\n",
            "Requirement already satisfied: spacy-loggers<2.0.0,>=1.0.0 in /usr/local/lib/python3.10/dist-packages (from spacy) (1.0.5)\n",
            "Requirement already satisfied: murmurhash<1.1.0,>=0.28.0 in /usr/local/lib/python3.10/dist-packages (from spacy) (1.0.10)\n",
            "Requirement already satisfied: cymem<2.1.0,>=2.0.2 in /usr/local/lib/python3.10/dist-packages (from spacy) (2.0.8)\n",
            "Requirement already satisfied: preshed<3.1.0,>=3.0.2 in /usr/local/lib/python3.10/dist-packages (from spacy) (3.0.9)\n",
            "Requirement already satisfied: thinc<8.3.0,>=8.2.2 in /usr/local/lib/python3.10/dist-packages (from spacy) (8.2.2)\n",
            "Requirement already satisfied: wasabi<1.2.0,>=0.9.1 in /usr/local/lib/python3.10/dist-packages (from spacy) (1.1.2)\n",
            "Requirement already satisfied: srsly<3.0.0,>=2.4.3 in /usr/local/lib/python3.10/dist-packages (from spacy) (2.4.8)\n",
            "Requirement already satisfied: catalogue<2.1.0,>=2.0.6 in /usr/local/lib/python3.10/dist-packages (from spacy) (2.0.10)\n",
            "Requirement already satisfied: weasel<0.4.0,>=0.1.0 in /usr/local/lib/python3.10/dist-packages (from spacy) (0.3.4)\n",
            "Requirement already satisfied: typer<0.10.0,>=0.3.0 in /usr/local/lib/python3.10/dist-packages (from spacy) (0.9.0)\n",
            "Requirement already satisfied: smart-open<7.0.0,>=5.2.1 in /usr/local/lib/python3.10/dist-packages (from spacy) (6.4.0)\n",
            "Requirement already satisfied: tqdm<5.0.0,>=4.38.0 in /usr/local/lib/python3.10/dist-packages (from spacy) (4.66.1)\n",
            "Requirement already satisfied: requests<3.0.0,>=2.13.0 in /usr/local/lib/python3.10/dist-packages (from spacy) (2.31.0)\n",
            "Requirement already satisfied: pydantic!=1.8,!=1.8.1,<3.0.0,>=1.7.4 in /usr/local/lib/python3.10/dist-packages (from spacy) (2.6.1)\n",
            "Requirement already satisfied: jinja2 in /usr/local/lib/python3.10/dist-packages (from spacy) (3.1.3)\n",
            "Requirement already satisfied: setuptools in /usr/local/lib/python3.10/dist-packages (from spacy) (67.7.2)\n",
            "Requirement already satisfied: packaging>=20.0 in /usr/local/lib/python3.10/dist-packages (from spacy) (23.2)\n",
            "Requirement already satisfied: langcodes<4.0.0,>=3.2.0 in /usr/local/lib/python3.10/dist-packages (from spacy) (3.3.0)\n",
            "Requirement already satisfied: numpy>=1.19.0 in /usr/local/lib/python3.10/dist-packages (from spacy) (1.23.5)\n",
            "Requirement already satisfied: annotated-types>=0.4.0 in /usr/local/lib/python3.10/dist-packages (from pydantic!=1.8,!=1.8.1,<3.0.0,>=1.7.4->spacy) (0.6.0)\n",
            "Requirement already satisfied: pydantic-core==2.16.2 in /usr/local/lib/python3.10/dist-packages (from pydantic!=1.8,!=1.8.1,<3.0.0,>=1.7.4->spacy) (2.16.2)\n",
            "Requirement already satisfied: typing-extensions>=4.6.1 in /usr/local/lib/python3.10/dist-packages (from pydantic!=1.8,!=1.8.1,<3.0.0,>=1.7.4->spacy) (4.9.0)\n",
            "Requirement already satisfied: charset-normalizer<4,>=2 in /usr/local/lib/python3.10/dist-packages (from requests<3.0.0,>=2.13.0->spacy) (3.3.2)\n",
            "Requirement already satisfied: idna<4,>=2.5 in /usr/local/lib/python3.10/dist-packages (from requests<3.0.0,>=2.13.0->spacy) (3.6)\n",
            "Requirement already satisfied: urllib3<3,>=1.21.1 in /usr/local/lib/python3.10/dist-packages (from requests<3.0.0,>=2.13.0->spacy) (2.0.7)\n",
            "Requirement already satisfied: certifi>=2017.4.17 in /usr/local/lib/python3.10/dist-packages (from requests<3.0.0,>=2.13.0->spacy) (2024.2.2)\n",
            "Requirement already satisfied: blis<0.8.0,>=0.7.8 in /usr/local/lib/python3.10/dist-packages (from thinc<8.3.0,>=8.2.2->spacy) (0.7.11)\n",
            "Requirement already satisfied: confection<1.0.0,>=0.0.1 in /usr/local/lib/python3.10/dist-packages (from thinc<8.3.0,>=8.2.2->spacy) (0.1.4)\n",
            "Requirement already satisfied: click<9.0.0,>=7.1.1 in /usr/local/lib/python3.10/dist-packages (from typer<0.10.0,>=0.3.0->spacy) (8.1.7)\n",
            "Requirement already satisfied: cloudpathlib<0.17.0,>=0.7.0 in /usr/local/lib/python3.10/dist-packages (from weasel<0.4.0,>=0.1.0->spacy) (0.16.0)\n",
            "Requirement already satisfied: MarkupSafe>=2.0 in /usr/local/lib/python3.10/dist-packages (from jinja2->spacy) (2.1.5)\n"
          ]
        }
      ]
    },
    {
      "cell_type": "code",
      "source": [
        "!pip install scikit-fuzzy\n",
        "import skfuzzy as fuzz\n",
        "from skfuzzy import control as ctrl"
      ],
      "metadata": {
        "id": "4Kg44e6D5M7N",
        "colab": {
          "base_uri": "https://localhost:8080/"
        },
        "outputId": "336b4e5e-a8e3-465c-c53a-465d4dead7a1"
      },
      "execution_count": null,
      "outputs": [
        {
          "output_type": "stream",
          "name": "stdout",
          "text": [
            "Collecting scikit-fuzzy\n",
            "  Downloading scikit-fuzzy-0.4.2.tar.gz (993 kB)\n",
            "\u001b[2K     \u001b[90m━━━━━━━━━━━━━━━━━━━━━━━━━━━━━━━━━━━━━━━━\u001b[0m \u001b[32m994.0/994.0 kB\u001b[0m \u001b[31m18.0 MB/s\u001b[0m eta \u001b[36m0:00:00\u001b[0m\n",
            "\u001b[?25h  Preparing metadata (setup.py) ... \u001b[?25l\u001b[?25hdone\n",
            "Requirement already satisfied: numpy>=1.6.0 in /usr/local/lib/python3.10/dist-packages (from scikit-fuzzy) (1.23.5)\n",
            "Requirement already satisfied: scipy>=0.9.0 in /usr/local/lib/python3.10/dist-packages (from scikit-fuzzy) (1.11.4)\n",
            "Requirement already satisfied: networkx>=1.9.0 in /usr/local/lib/python3.10/dist-packages (from scikit-fuzzy) (3.2.1)\n",
            "Building wheels for collected packages: scikit-fuzzy\n",
            "  Building wheel for scikit-fuzzy (setup.py) ... \u001b[?25l\u001b[?25hdone\n",
            "  Created wheel for scikit-fuzzy: filename=scikit_fuzzy-0.4.2-py3-none-any.whl size=894077 sha256=63871bd2054f61bb0b537f5d6e0ee86d759c954d73d3699b1ccc284f4944c8ac\n",
            "  Stored in directory: /root/.cache/pip/wheels/4f/86/1b/dfd97134a2c8313e519bcebd95d3fedc7be7944db022094bc8\n",
            "Successfully built scikit-fuzzy\n",
            "Installing collected packages: scikit-fuzzy\n",
            "Successfully installed scikit-fuzzy-0.4.2\n"
          ]
        }
      ]
    },
    {
      "cell_type": "markdown",
      "source": [
        "# **Data Exploration**"
      ],
      "metadata": {
        "id": "0UbYRqywX8cA"
      }
    },
    {
      "cell_type": "code",
      "source": [
        "\"\"\"traversing the training and testing datasets to calculate the number of annual reports and the \"\"\"\n",
        "import os\n",
        "import random\n",
        "annual_report_path1 = '/content/training/annual_reports'\n",
        "summary_path1 = '/content/training/gold_summaries'\n",
        "annual_report_path2 = '/content/validation/annual_reports'\n",
        "summary_path2 = '/content/validation/gold_summaries'\n",
        "c11 = os.listdir(annual_report_path1)\n",
        "c12 = os.listdir(summary_path1)\n",
        "c21 = os.listdir(annual_report_path2)\n",
        "c22 = os.listdir(summary_path2)\n",
        "print(\"The no of annual reports: Training: \"+str(len(c11))+\", Validation: \"+str(len(c21)))\n",
        "print(\"The no of gold summeries: Training: \"+str(len(c12))+\", Validation: \"+str(len(c22)))\n",
        "count1 = []\n",
        "count2 = []\n",
        "for ar in c11:\n",
        "  t = 0\n",
        "  x = ar.split('.')\n",
        "  for gs in c12:\n",
        "    y = gs.split('_')\n",
        "    if x[0] == y[0]:\n",
        "      t += 1\n",
        "  count1.append(t)\n",
        "for ar in c21:\n",
        "  t = 0\n",
        "  x = ar.split('.')\n",
        "  for gs in c22:\n",
        "    y = gs.split('_')\n",
        "    if x[0] == y[0]:\n",
        "      t += 1\n",
        "  count2.append(t)\n",
        "print(\"The no of gold summeries per annual report in Training folder: max- \"+str(min(count1))+\", max- \"+str(max(count1)))\n",
        "print(\"The no of gold summeries per annual report in Validation folder: max- \"+str(min(count2))+\", max- \"+str(max(count2)))"
      ],
      "metadata": {
        "id": "Y4QbAkpVEnlr",
        "colab": {
          "base_uri": "https://localhost:8080/"
        },
        "outputId": "04ef49cc-0ebe-49a5-ad76-4c28b3743430"
      },
      "execution_count": null,
      "outputs": [
        {
          "output_type": "stream",
          "name": "stdout",
          "text": [
            "The no of annual reports: Training: 3000, Validation: 363\n",
            "The no of gold summeries: Training: 9873, Validation: 1250\n",
            "The no of gold summeries per annual report in Training folder: max- 3, max- 7\n",
            "The no of gold summeries per annual report in Validation folder: max- 3, max- 6\n"
          ]
        }
      ]
    },
    {
      "cell_type": "markdown",
      "source": [
        "# **Preprocessing**"
      ],
      "metadata": {
        "id": "1N9_3j5SEXPc"
      }
    },
    {
      "cell_type": "code",
      "source": [
        "#Extracting sentences from textfile\n",
        "\n",
        "def get_sentences(text):\n",
        "  \"\"\" using spacy to split textfile into sentences\"\"\"\n",
        "  try:\n",
        "    sentences = []\n",
        "    doc = nlp(text)\n",
        "    for sent in doc.sents:\n",
        "      sentences.append(sent.text)\n",
        "    return sentences\n",
        "  except:\n",
        "    return sent_tokenize(text)"
      ],
      "metadata": {
        "id": "zODMh4wtDrvU"
      },
      "execution_count": null,
      "outputs": []
    },
    {
      "cell_type": "markdown",
      "source": [
        "**Example**: sentence tokenization using NLTK.punkt and spacy"
      ],
      "metadata": {
        "id": "nnj6693KVxxU"
      }
    },
    {
      "cell_type": "code",
      "source": [
        "ar_file = open('/content/training/annual_reports/10023.txt', 'r')\n",
        "ar_text = ar_file.read()\n",
        "sentences_punkt = sent_tokenize(ar_text)\n",
        "sentences_spacy = get_sentences(ar_text)\n",
        "print(\"punkt ------------------------------------------\")\n",
        "print(sentences_punkt[1])\n",
        "print('\\n\\n')\n",
        "print(\"spacy ------------------------------------------\")\n",
        "print(sentences_spacy[12])\n",
        "print(sentences_spacy[13])"
      ],
      "metadata": {
        "colab": {
          "base_uri": "https://localhost:8080/"
        },
        "id": "jf6RvNJAVxYq",
        "outputId": "8936833c-fc41-42f2-df8e-d02415297ccd"
      },
      "execution_count": null,
      "outputs": [
        {
          "output_type": "stream",
          "name": "stdout",
          "text": [
            "punkt ------------------------------------------\n",
            "“ The work undertaken over the past 12 months has \n",
            "significantly strengthened the Group’s technical and \n",
            "commercial position in the Mediterranean.” \n",
            " Dr. Bill Higgs, Chief Executive 02\n",
            "Mediterranean Oil & Gas Plc Annual Report 2011 www.medoilgas.com\n",
            "BUILDING A RESOURCE \n",
            "FACTORY\n",
            "ACQUISITIONS\n",
            "DEVELOPMENT\n",
            "PRODUCTION\n",
            "EXPLORATION\n",
            "MOG owns and operates \n",
            "assets in the central \n",
            "Mediterranean region.\n",
            "\n",
            "\n",
            "\n",
            "spacy ------------------------------------------\n",
            "“ The work undertaken over the past 12 months has \n",
            "significantly strengthened the Group’s technical and \n",
            "commercial position in the Mediterranean.” \n",
            " \n",
            "Dr. Bill Higgs, Chief Executive 02\n",
            "Mediterranean Oil & Gas Plc Annual Report 2011 www.medoilgas.com\n",
            "BUILDING A RESOURCE \n",
            "FACTORY\n",
            "ACQUISITIONS\n",
            "DEVELOPMENT\n",
            "PRODUCTION\n",
            "EXPLORATION\n",
            "MOG owns and operates \n",
            "assets in the central \n",
            "Mediterranean region.\n",
            "\n"
          ]
        }
      ]
    },
    {
      "cell_type": "code",
      "source": [
        "#Removing sentences of length 3 or less\n",
        "def remove_short_sentences(Sentences):\n",
        "  \"\"\"input: a list of sentences\n",
        "     output: a list of sentences, each of length more than 3 words\"\"\"\n",
        "  temp_sent = []\n",
        "  for sent in Sentences:\n",
        "    words = word_tokenize(sent)\n",
        "    if len(words) > 3:\n",
        "      temp_sent.append(sent)\n",
        "  return temp_sent"
      ],
      "metadata": {
        "id": "MYcmQ-ZpgElz"
      },
      "execution_count": null,
      "outputs": []
    },
    {
      "cell_type": "code",
      "source": [
        "#remove web addresses\n",
        "def remove_addresses_sent(text):\n",
        "  clean_text = re.sub(r\"\\S*www.\\S+\", \"\", text)\n",
        "  clean_text = re.sub(r\"\\S*WWW.\\S+\", \"\", clean_text)\n",
        "  clean_text = re.sub(r\"\\S*.com\\S+\", \"\", clean_text)\n",
        "  clean_text = re.sub(r\"\\S*.co\\S+\", \"\", clean_text)\n",
        "  clean_text = re.sub(r\"\\S*.COM\\S+\", \"\", clean_text)\n",
        "  clean_text = re.sub(r\"\\S*.gov\\S+\", \"\", clean_text)\n",
        "  clean_text = re.sub(r\"\\S*.biz\\S+\", \"\", clean_text)\n",
        "  clean_text = re.sub(r\"\\S*.org\\S+\", \"\", clean_text)\n",
        "  return clean_text\n",
        "\n",
        "def remove_addresses(sentences):\n",
        "  for i in range(len(sentences)):\n",
        "    sentences[i] = remove_addresses_sent(sentences[i])\n",
        "  return sentences"
      ],
      "metadata": {
        "id": "8PQ3J-U7Dzw2"
      },
      "execution_count": null,
      "outputs": []
    },
    {
      "cell_type": "markdown",
      "source": [
        "**Example**"
      ],
      "metadata": {
        "id": "AuiomCqBYkzn"
      }
    },
    {
      "cell_type": "code",
      "source": [
        "print(\"Example text before web address removal -------------------------------------------\")\n",
        "print(sentences_punkt[1])\n",
        "print(\"\\nExample text after web address removal -------------------------------------------\")\n",
        "print(remove_addresses(sentences_punkt[1]))"
      ],
      "metadata": {
        "colab": {
          "base_uri": "https://localhost:8080/"
        },
        "id": "pQ4SgVi3YkYH",
        "outputId": "ce4208cd-7b5b-479b-8fec-5b4e7e31d0ac"
      },
      "execution_count": null,
      "outputs": [
        {
          "output_type": "stream",
          "name": "stdout",
          "text": [
            "Example text before web address removal -------------------------------------------\n",
            "“ The work undertaken over the past 12 months has \n",
            "significantly strengthened the Group’s technical and \n",
            "commercial position in the Mediterranean.” \n",
            " Dr. Bill Higgs, Chief Executive 02\n",
            "Mediterranean Oil & Gas Plc Annual Report 2011 www.medoilgas.com\n",
            "BUILDING A RESOURCE \n",
            "FACTORY\n",
            "ACQUISITIONS\n",
            "DEVELOPMENT\n",
            "PRODUCTION\n",
            "EXPLORATION\n",
            "MOG owns and operates \n",
            "assets in the central \n",
            "Mediterranean region.\n",
            "\n",
            "Example text after web address removal -------------------------------------------\n",
            "“ The work undertaken over the past 12 months has \n",
            "significantly strengthened the Group’s technical and \n",
            "commercial position in the Mediterranean.” \n",
            " Dr. Bill Higgs, Chief Executive 02\n",
            "Mediterranean Oil & Gas Plc Annual Report 2011 \n",
            "BUILDING A RESOURCE \n",
            "FACTORY\n",
            "ACQUISITIONS\n",
            "DEVELOPMENT\n",
            "PRODUCTION\n",
            "EXPLORATION\n",
            "MOG owns and operates \n",
            "assets in the central \n",
            "Mediterranean region.\n"
          ]
        }
      ]
    },
    {
      "cell_type": "code",
      "source": [
        "def remove_special_characters(sentences):\n",
        "  temp_text = []\n",
        "  for sent in sentences:\n",
        "    temp = ''\n",
        "    for char in sent:\n",
        "      if char.isalnum() or char == ' ' or char == '\\n':\n",
        "        temp += char\n",
        "    temp_text.append(temp)\n",
        "  return temp_text"
      ],
      "metadata": {
        "id": "CMC-UtmrdihT"
      },
      "execution_count": null,
      "outputs": []
    },
    {
      "cell_type": "code",
      "source": [
        "def remove_numerical_values(sentences):\n",
        "  temp_sent = []\n",
        "  for sent in sentences:\n",
        "    words = word_tokenize(sent)\n",
        "    temp = ''\n",
        "    for word in words:\n",
        "      if word.isalpha():\n",
        "        temp += word+' '\n",
        "    temp_sent.append(temp)\n",
        "  return temp_sent"
      ],
      "metadata": {
        "id": "cyFeGdXJfsgT"
      },
      "execution_count": null,
      "outputs": []
    },
    {
      "cell_type": "markdown",
      "source": [
        "**Example**"
      ],
      "metadata": {
        "id": "lKGsCpV1nZiu"
      }
    },
    {
      "cell_type": "code",
      "source": [
        "sen = [sentences_spacy[106], sentences_spacy[107]]\n",
        "print(\"Original sentences -----------------------------------------------------------\")\n",
        "for x in sen:\n",
        "  print(x)\n",
        "print(\"Sentences after removing special characters ----------------------------------\")\n",
        "for x in remove_special_characters(sen):\n",
        "  print(x)\n",
        "print(\"Sentences after removing numerical values ------------------------------------\")\n",
        "for x in remove_numerical_values(sen):\n",
        "  print(x+'\\n')"
      ],
      "metadata": {
        "colab": {
          "base_uri": "https://localhost:8080/"
        },
        "id": "Uy-05JCbl4iQ",
        "outputId": "3e4825b5-6015-4b3c-85c2-0aa7adad9839"
      },
      "execution_count": null,
      "outputs": [
        {
          "output_type": "stream",
          "name": "stdout",
          "text": [
            "Original sentences -----------------------------------------------------------\n",
            "Following the successful drilling of two \n",
            "exploration/appraisal wells in 2008, the \n",
            "completion of a well as an oil producer and \n",
            "the set-up of a tripod platform in preparation \n",
            "for the development phase, the Company \n",
            "applied for a production Concession (d 30 \n",
            "B.C-MD) in December 2008.\n",
            "\n",
            "On 23 June 2009, the FDP project received \n",
            "technical approval from the Italian Ministry \n",
            "of Economic Development (‘MED’). \n",
            "\n",
            "Sentences after removing special characters ----------------------------------\n",
            "Following the successful drilling of two \n",
            "explorationappraisal wells in 2008 the \n",
            "completion of a well as an oil producer and \n",
            "the setup of a tripod platform in preparation \n",
            "for the development phase the Company \n",
            "applied for a production Concession d 30 \n",
            "BCMD in December 2008\n",
            "\n",
            "On 23 June 2009 the FDP project received \n",
            "technical approval from the Italian Ministry \n",
            "of Economic Development MED \n",
            "\n",
            "Sentences after removing numerical values ------------------------------------\n",
            "Following the successful drilling of two wells in the completion of a well as an oil producer and the of a tripod platform in preparation for the development phase the Company applied for a production Concession d in December \n",
            "\n",
            "On June the FDP project received technical approval from the Italian Ministry of Economic Development MED \n",
            "\n"
          ]
        }
      ]
    },
    {
      "cell_type": "code",
      "execution_count": null,
      "metadata": {
        "id": "gp2ioTXMi21G"
      },
      "outputs": [],
      "source": [
        "#POS tagging, stop word removal, lemmatization\n",
        "def preprocessing(sentences):\n",
        "  \"\"\"input: A list of sentences\n",
        "     output: the sentences,  a list of lists with each list containing tuples of each words and POS tags\"\"\"\n",
        "  cleaned_sentences = []\n",
        "  all_sentences = []\n",
        "  for i in range(len(sentences)):\n",
        "    sent = sentences[i]\n",
        "    words = word_tokenize(sent)\n",
        "    temp = []\n",
        "    for word in words:\n",
        "      if word.isalpha():\n",
        "        temp.append(word)\n",
        "    if len(temp):\n",
        "      tagged_words = nltk.pos_tag(temp)\n",
        "      temp = []\n",
        "      for tup in tagged_words:\n",
        "        if tup[0] not in stop_words:\n",
        "          tup = (lt.lemmatize(tup[0].lower()), tup[1])\n",
        "          temp.append(tup)\n",
        "    all_sentences.append(sent)\n",
        "    cleaned_sentences.append(temp)\n",
        "\n",
        "  return all_sentences, cleaned_sentences, len(all_sentences)\n",
        "\n",
        "def tup_sent(cleaned_sentences):\n",
        "  \"\"\"input: a list of lists with each list containing tuples of each words and POS tags\n",
        "     output: a list of strings with each string containing the words of corresponding list of tuples\"\"\"\n",
        "  sentences = []\n",
        "  for sent in cleaned_sentences:\n",
        "    temp = ''\n",
        "    for tup in sent:\n",
        "      if len(temp) == 0:\n",
        "        temp += tup[0]\n",
        "      else:\n",
        "        temp += ' '+tup[0]\n",
        "    sentences.append(temp)\n",
        "  return sentences"
      ]
    },
    {
      "cell_type": "markdown",
      "source": [
        "**Example**"
      ],
      "metadata": {
        "id": "y2mg6eDuo5cu"
      }
    },
    {
      "cell_type": "code",
      "source": [
        "sents, pos_tups, n = preprocessing(sen)\n",
        "final_sents = tup_sent(pos_tups)\n",
        "print(\"Original sentences -----------------------------------------------------------\")\n",
        "for x in sents:\n",
        "  print(x+'\\n')\n",
        "print(\"Sentences with POS tagging----------------------------------------------------\")\n",
        "for x in pos_tups:\n",
        "  print(str(x)+'\\n')\n",
        "print(\"\\nClean sentences -----------------------------------------------------------\")\n",
        "for x in final_sents:\n",
        "  print(x+'\\n')"
      ],
      "metadata": {
        "colab": {
          "base_uri": "https://localhost:8080/"
        },
        "id": "qdjbKk2pnoLk",
        "outputId": "0e1f6c78-ecc4-45d3-e320-ab3c7861b3cf"
      },
      "execution_count": null,
      "outputs": [
        {
          "output_type": "stream",
          "name": "stdout",
          "text": [
            "Original sentences -----------------------------------------------------------\n",
            "Following the successful drilling of two \n",
            "exploration/appraisal wells in 2008, the \n",
            "completion of a well as an oil producer and \n",
            "the set-up of a tripod platform in preparation \n",
            "for the development phase, the Company \n",
            "applied for a production Concession (d 30 \n",
            "B.C-MD) in December 2008.\n",
            "\n",
            "\n",
            "On 23 June 2009, the FDP project received \n",
            "technical approval from the Italian Ministry \n",
            "of Economic Development (‘MED’). \n",
            "\n",
            "\n",
            "Sentences with POS tagging----------------------------------------------------\n",
            "[('following', 'VBG'), ('successful', 'JJ'), ('drilling', 'NN'), ('two', 'CD'), ('well', 'NNS'), ('completion', 'NN'), ('well', 'NN'), ('oil', 'NN'), ('producer', 'NN'), ('tripod', 'JJ'), ('platform', 'NN'), ('preparation', 'NN'), ('development', 'NN'), ('phase', 'VBD'), ('company', 'NNP'), ('applied', 'VBD'), ('production', 'NN'), ('concession', 'NNP'), ('december', 'NNP')]\n",
            "\n",
            "[('on', 'IN'), ('june', 'NNP'), ('fdp', 'NNP'), ('project', 'NN'), ('received', 'VBD'), ('technical', 'JJ'), ('approval', 'NN'), ('italian', 'JJ'), ('ministry', 'NNP'), ('economic', 'NNP'), ('development', 'NNP'), ('med', 'NNP')]\n",
            "\n",
            "\n",
            "Clean sentences -----------------------------------------------------------\n",
            "following successful drilling two well completion well oil producer tripod platform preparation development phase company applied production concession december\n",
            "\n",
            "on june fdp project received technical approval italian ministry economic development med\n",
            "\n"
          ]
        }
      ]
    },
    {
      "cell_type": "markdown",
      "source": [
        "# **Feature Extraction**"
      ],
      "metadata": {
        "id": "wORarT58FSTb"
      }
    },
    {
      "cell_type": "code",
      "source": [
        "sents, pos_tups, n = preprocessing(sentences_spacy[120:140])\n",
        "final_sents = tup_sent(pos_tups)\n",
        "print('Example sentences --------------------------------------------------------')\n",
        "for x in sents:\n",
        "  print(x+'\\n')\n",
        "print('Sentence tokens with pos tags---------------------------------------------')\n",
        "for x in pos_tups:\n",
        "  print(x)\n",
        "print('\\n\\nClean sentences ----------------------------------------------------------')\n",
        "for x in final_sents:\n",
        "  print(x+'\\n')"
      ],
      "metadata": {
        "colab": {
          "base_uri": "https://localhost:8080/"
        },
        "id": "2_gzIGujpT_C",
        "outputId": "71871076-e9f7-47fb-c01f-96118a1d24dc"
      },
      "execution_count": null,
      "outputs": [
        {
          "output_type": "stream",
          "name": "stdout",
          "text": [
            "Example sentences --------------------------------------------------------\n",
            "12\n",
            "Mediterranean Oil & Gas Plc Annual Report 2011 www.medoilgas.com\n",
            "Chief Executive’s report continued\n",
            "Since 2008, the Company has completed  \n",
            "a detailed G&G assessment of the area, in \n",
            "order to de-risk the prospects and verify the \n",
            "presence of technically and commercially \n",
            "valuable exploration drilling opportunities. \n",
            "\n",
            "\n",
            "With this objective in mind, in late 2011 the \n",
            "Company acquired 1,012 sq km of high \n",
            "resolution long offset 3D seismic data on \n",
            "the most prospective sector of Area 4.\n",
            "\n",
            "The \n",
            "Company believes that this 3D data will  \n",
            "be fundamental to completing the G&G \n",
            "assessment and de-risking the exploration \n",
            "potential.\n",
            "\n",
            "A comprehensive CPR has been \n",
            "commissioned.\n",
            "\n",
            "The results of this study, \n",
            "which are expected early in the 3rd Quarter \n",
            "of 2012, will underpin the Company’s \n",
            "strategy to seek a farm-in partner  \n",
            "and progress the exploration of this \n",
            "interesting acreage.\n",
            "\n",
            "\n",
            "France\n",
            "The St. Laurent permit is located in southern \n",
            "France in a known gas and oil prone \n",
            "province.\n",
            "\n",
            "The Company has an 11% W.I. in \n",
            "this asset.\n",
            "\n",
            "In 2011, a detailed review of the \n",
            "gas play was completed in the permit area, \n",
            "which showed the presence of a number of \n",
            "high risk but high potential gas leads.\n",
            "\n",
            "The \n",
            "acquisition of 400km of infill 2D seismic has \n",
            "been planned for 2012 to supplement \n",
            "existing seismic data and complete a more \n",
            "proper definition of the leads and de-risk \n",
            "this exploration potential.\n",
            "\n",
            "The strategy for \n",
            "the licence will be decided following the \n",
            "analysis of this data. \n",
            "\n",
            "\n",
            "Health, Safety and the Environment \n",
            "(‘HSE’)\n",
            "\n",
            "\n",
            "The Company continues to be committed to \n",
            "maintaining the highest standards in HSE \n",
            "management.\n",
            "\n",
            "No injuries or environmental \n",
            "incidents have been reported for the period \n",
            "under review. \n",
            "\n",
            "\n",
            "Since 2008, the Company has set up \n",
            "policies and procedures to conduct \n",
            "business in a safe, healthy and ethical \n",
            "manner.\n",
            "\n",
            "In 2011, the Company developed \n",
            "policies and procedures to achieve \n",
            "compliance with the UK Bribery Act and \n",
            "extended these principles to all the \n",
            "subsidiaries of the Group. \n",
            " \n",
            "\n",
            "\n",
            "Wildcat Exploration\n",
            "Italy\n",
            "In the Southern Apennines, the Group \n",
            "operates the Monte Grosso project, holding \n",
            "a 22.89% interest.\n",
            "\n",
            "The project is a high \n",
            "quality near field exploration opportunity \n",
            "close to one of the largest onshore oil \n",
            "producing areas in Western Europe.\n",
            "\n",
            "The \n",
            "Monte Grosso 2 exploration project \n",
            "presently remains on hold, pending \n",
            "resolution of residual permitting issues, \n",
            "which the Group presently believes should \n",
            "be positively resolved and allow a project \n",
            "start-up in mid 2014 (subject to rig \n",
            "availability).\n",
            "\n",
            "The Monte Grosso 2 well  \n",
            "is targeting 280 MMbbls of unrisked \n",
            "prospective resources (64 MMbbls net to \n",
            "the Group) at a depth of 6,500m. Permitting \n",
            "and existing well site maintenance works \n",
            "were the main activities conducted during \n",
            "the period.\n",
            "\n",
            "\n",
            "Offshore Malta\n",
            "The Group operates Area 4 Offshore  \n",
            "Malta (MOG W.I. 90%).\n",
            "\n",
            "Sentence tokens with pos tags---------------------------------------------\n",
            "[('mediterranean', 'JJ'), ('oil', 'NNP'), ('gas', 'NNP'), ('plc', 'NNP'), ('annual', 'NNP'), ('report', 'NNP'), ('chief', 'NNP'), ('executive', 'NNP'), ('report', 'NN'), ('continued', 'VBD'), ('since', 'IN'), ('company', 'NNP'), ('completed', 'VBN'), ('detailed', 'JJ'), ('g', 'NNP'), ('g', 'NNP'), ('assessment', 'NN'), ('area', 'NN'), ('order', 'NN'), ('prospect', 'NNS'), ('verify', 'VB'), ('presence', 'NN'), ('technically', 'RB'), ('commercially', 'RB'), ('valuable', 'JJ'), ('exploration', 'NN'), ('drilling', 'NN'), ('opportunity', 'NNS')]\n",
            "[('with', 'IN'), ('objective', 'NN'), ('mind', 'NN'), ('late', 'JJ'), ('company', 'NNP'), ('acquired', 'VBD'), ('sq', 'JJ'), ('km', 'NN'), ('high', 'JJ'), ('resolution', 'NN'), ('long', 'RB'), ('offset', 'JJ'), ('seismic', 'JJ'), ('data', 'NNS'), ('prospective', 'JJ'), ('sector', 'NN'), ('area', 'NNP')]\n",
            "[('the', 'DT'), ('company', 'NNP'), ('belief', 'VBZ'), ('data', 'NN'), ('fundamental', 'JJ'), ('completing', 'VBG'), ('g', 'NNP'), ('g', 'NNP'), ('assessment', 'NN'), ('exploration', 'NN'), ('potential', 'NN')]\n",
            "[('a', 'DT'), ('comprehensive', 'JJ'), ('cpr', 'NNP'), ('commissioned', 'VBN')]\n",
            "[('the', 'DT'), ('result', 'NNS'), ('study', 'NN'), ('expected', 'VBN'), ('early', 'RB'), ('quarter', 'NNP'), ('underpin', 'VB'), ('company', 'NNP'), ('strategy', 'NN'), ('seek', 'VB'), ('partner', 'NN'), ('progress', 'NN'), ('exploration', 'NN'), ('interesting', 'JJ'), ('acreage', 'NN')]\n",
            "[('france', 'NNP'), ('the', 'DT'), ('laurent', 'NNP'), ('permit', 'NN'), ('located', 'VBN'), ('southern', 'JJ'), ('france', 'NNP'), ('known', 'VBN'), ('gas', 'NN'), ('oil', 'NN'), ('prone', 'NN'), ('province', 'NN')]\n",
            "[('the', 'DT'), ('company', 'NNP'), ('asset', 'NN')]\n",
            "[('in', 'IN'), ('detailed', 'JJ'), ('review', 'NN'), ('gas', 'NN'), ('play', 'NN'), ('completed', 'VBN'), ('permit', 'NN'), ('area', 'NN'), ('showed', 'VBD'), ('presence', 'NN'), ('number', 'NN'), ('high', 'JJ'), ('risk', 'NN'), ('high', 'JJ'), ('potential', 'NN'), ('gas', 'NN'), ('lead', 'NNS')]\n",
            "[('the', 'DT'), ('acquisition', 'NN'), ('infill', 'NN'), ('seismic', 'NN'), ('planned', 'VBN'), ('supplement', 'VB'), ('existing', 'VBG'), ('seismic', 'JJ'), ('data', 'NNS'), ('complete', 'VB'), ('proper', 'JJ'), ('definition', 'NN'), ('lead', 'NNS'), ('exploration', 'NN'), ('potential', 'NN')]\n",
            "[('the', 'DT'), ('strategy', 'NN'), ('licence', 'NN'), ('decided', 'VBN'), ('following', 'VBG'), ('analysis', 'NN'), ('data', 'NN')]\n",
            "[('health', 'NNP'), ('safety', 'NNP'), ('environment', 'NNP'), ('hse', 'NNP')]\n",
            "[('the', 'DT'), ('company', 'NNP'), ('continues', 'VBZ'), ('committed', 'VBN'), ('maintaining', 'VBG'), ('highest', 'JJS'), ('standard', 'NNS'), ('hse', 'NNP'), ('management', 'NN')]\n",
            "[('no', 'DT'), ('injury', 'NNS'), ('environmental', 'JJ'), ('incident', 'NNS'), ('reported', 'VBN'), ('period', 'NN'), ('review', 'NN')]\n",
            "[('since', 'IN'), ('company', 'NNP'), ('set', 'VBN'), ('policy', 'NNS'), ('procedure', 'NNS'), ('conduct', 'VB'), ('business', 'NN'), ('safe', 'JJ'), ('healthy', 'JJ'), ('ethical', 'JJ'), ('manner', 'NN')]\n",
            "[('in', 'IN'), ('company', 'NNP'), ('developed', 'VBD'), ('policy', 'NNS'), ('procedure', 'NNS'), ('achieve', 'VB'), ('compliance', 'NN'), ('uk', 'NNP'), ('bribery', 'NNP'), ('act', 'NNP'), ('extended', 'VBN'), ('principle', 'NNS'), ('subsidiary', 'NNS'), ('group', 'NNP')]\n",
            "[('wildcat', 'NNP'), ('exploration', 'NNP'), ('italy', 'NNP'), ('in', 'IN'), ('southern', 'NNP'), ('apennines', 'NNP'), ('group', 'NNP'), ('operates', 'VBZ'), ('monte', 'NNP'), ('grosso', 'NNP'), ('project', 'NN'), ('holding', 'VBG'), ('interest', 'NN')]\n",
            "[('the', 'DT'), ('project', 'NN'), ('high', 'JJ'), ('quality', 'NN'), ('near', 'IN'), ('field', 'NN'), ('exploration', 'NN'), ('opportunity', 'NN'), ('close', 'RB'), ('one', 'CD'), ('largest', 'JJS'), ('onshore', 'NN'), ('oil', 'NN'), ('producing', 'VBG'), ('area', 'NNS'), ('western', 'NNP'), ('europe', 'NNP')]\n",
            "[('the', 'DT'), ('monte', 'NNP'), ('grosso', 'NNP'), ('exploration', 'NN'), ('project', 'NN'), ('presently', 'RB'), ('remains', 'VBZ'), ('hold', 'NN'), ('pending', 'VBG'), ('resolution', 'NN'), ('residual', 'JJ'), ('permitting', 'NN'), ('issue', 'NNS'), ('group', 'NNP'), ('presently', 'RB'), ('belief', 'VBZ'), ('positively', 'RB'), ('resolved', 'VBN'), ('allow', 'VB'), ('project', 'NN'), ('mid', 'NN'), ('subject', 'NN'), ('rig', 'VB'), ('availability', 'NN')]\n",
            "[('the', 'DT'), ('monte', 'NNP'), ('grosso', 'NNP'), ('well', 'RB'), ('targeting', 'VBG'), ('mmbbls', 'NNP'), ('unrisked', 'JJ'), ('prospective', 'JJ'), ('resource', 'NNS'), ('mmbbls', 'NNP'), ('net', 'NN'), ('group', 'NNP'), ('depth', 'NN'), ('permitting', 'NNP'), ('existing', 'VBG'), ('well', 'RB'), ('site', 'NN'), ('maintenance', 'NN'), ('work', 'NNS'), ('main', 'JJ'), ('activity', 'NNS'), ('conducted', 'VBN'), ('period', 'NN')]\n",
            "[('offshore', 'RB'), ('malta', 'NNP'), ('the', 'DT'), ('group', 'NNP'), ('operates', 'VBZ'), ('area', 'NNP'), ('offshore', 'NNP'), ('malta', 'NNP'), ('mog', 'NNP')]\n",
            "\n",
            "\n",
            "Clean sentences ----------------------------------------------------------\n",
            "mediterranean oil gas plc annual report chief executive report continued since company completed detailed g g assessment area order prospect verify presence technically commercially valuable exploration drilling opportunity\n",
            "\n",
            "with objective mind late company acquired sq km high resolution long offset seismic data prospective sector area\n",
            "\n",
            "the company belief data fundamental completing g g assessment exploration potential\n",
            "\n",
            "a comprehensive cpr commissioned\n",
            "\n",
            "the result study expected early quarter underpin company strategy seek partner progress exploration interesting acreage\n",
            "\n",
            "france the laurent permit located southern france known gas oil prone province\n",
            "\n",
            "the company asset\n",
            "\n",
            "in detailed review gas play completed permit area showed presence number high risk high potential gas lead\n",
            "\n",
            "the acquisition infill seismic planned supplement existing seismic data complete proper definition lead exploration potential\n",
            "\n",
            "the strategy licence decided following analysis data\n",
            "\n",
            "health safety environment hse\n",
            "\n",
            "the company continues committed maintaining highest standard hse management\n",
            "\n",
            "no injury environmental incident reported period review\n",
            "\n",
            "since company set policy procedure conduct business safe healthy ethical manner\n",
            "\n",
            "in company developed policy procedure achieve compliance uk bribery act extended principle subsidiary group\n",
            "\n",
            "wildcat exploration italy in southern apennines group operates monte grosso project holding interest\n",
            "\n",
            "the project high quality near field exploration opportunity close one largest onshore oil producing area western europe\n",
            "\n",
            "the monte grosso exploration project presently remains hold pending resolution residual permitting issue group presently belief positively resolved allow project mid subject rig availability\n",
            "\n",
            "the monte grosso well targeting mmbbls unrisked prospective resource mmbbls net group depth permitting existing well site maintenance work main activity conducted period\n",
            "\n",
            "offshore malta the group operates area offshore malta mog\n",
            "\n"
          ]
        }
      ]
    },
    {
      "cell_type": "markdown",
      "source": [
        "tf(word1) = frequency of word1 in the sentence/ total no of words in the sentence\n",
        "\n",
        "isf(word1) = log(total no of sentences/ no of sentences containng word1 in document)\n",
        "\n",
        "tf-isf(word1) = tf(word1)*isf(word1)\n",
        "\n",
        "tf-isf(sentence) = sum of all tf-isf of the words"
      ],
      "metadata": {
        "id": "0a5K4fvk2Kt_"
      }
    },
    {
      "cell_type": "code",
      "source": [
        "#sent features: 1. tf-isf\n",
        "def word_freq(sentences):\n",
        "  \"\"\"\n",
        "  Input: A list of sentences (sentences).\n",
        "  Output: A dictionary (word_dict) where keys are unique words in the sentences,\n",
        "  and values are the frequency of each word in the entire set of sentences.\n",
        "  \"\"\"\n",
        "  word_dict = {}\n",
        "  for sent in sentences:\n",
        "    words = list(set(word_tokenize(sent)))\n",
        "    for word in words:\n",
        "      if word not in word_dict:\n",
        "        word_dict[word] = 1\n",
        "      else:\n",
        "        word_dict[word] += 1\n",
        "  return word_dict\n",
        "\n",
        "def tf_isf(sentences):\n",
        "  \"\"\"\n",
        "  Input: A list of sentences (sentences).\n",
        "  Output: A list containing the TF-ISF scores for each sentence.\n",
        "  \"\"\"\n",
        "  word_dict = word_freq(sentences)\n",
        "  n_sent = len(sentences)\n",
        "  keys = word_dict.keys()\n",
        "  tf_isf_score_pre_sentence = []\n",
        "\n",
        "  for key in keys:\n",
        "    x = word_dict[key]\n",
        "    x = math.log(float(n_sent)/x)\n",
        "    word_dict[key] = x\n",
        "\n",
        "  for i in range(n_sent):\n",
        "    sent_val = 0\n",
        "    sent = sentences[i]\n",
        "    temp = {}\n",
        "    words = word_tokenize(sent)\n",
        "    if len(words) == 0:\n",
        "      tf_isf_score_pre_sentence.append(0)\n",
        "    for word in words:\n",
        "      if word not in temp:\n",
        "        temp[word] = 1\n",
        "      else:\n",
        "        temp[word] += 1\n",
        "\n",
        "    keys = temp.keys()\n",
        "    for key in keys:\n",
        "      tf = float(temp[key])/len(words)\n",
        "      isf = word_dict[key]\n",
        "      sent_val += (tf*isf)\n",
        "    sent_val /= len(words)\n",
        "    tf_isf_score_pre_sentence.append(sent_val)\n",
        "  return tf_isf_score_pre_sentence"
      ],
      "metadata": {
        "id": "xl-5nb5UF6RC"
      },
      "execution_count": null,
      "outputs": []
    },
    {
      "cell_type": "code",
      "source": [
        "tf_isf(final_sents)"
      ],
      "metadata": {
        "colab": {
          "base_uri": "https://localhost:8080/"
        },
        "id": "BMKZdSZhozKf",
        "outputId": "ad72be13-70b8-41d9-e416-797cc4aab16c"
      },
      "execution_count": null,
      "outputs": [
        {
          "output_type": "execute_result",
          "data": {
            "text/plain": [
              "[0.30243516251047153,\n",
              " 0.3748310162881796,\n",
              " 0.23959058207726158,\n",
              " 0.37446653419424886,\n",
              " 0.3178116803295496,\n",
              " 0.3627358543310479,\n",
              " 0.2652858827166921,\n",
              " 0.3529879776680027,\n",
              " 0.27619002474569654,\n",
              " 0.31716902116153334,\n",
              " 0.3893028246088282,\n",
              " 0.2905480862259703,\n",
              " 0.35606966461378264,\n",
              " 0.3644831889333447,\n",
              " 0.3342660348210648,\n",
              " 0.29320745906468354,\n",
              " 0.3395786312996825,\n",
              " 0.30267780015069623,\n",
              " 0.3381781484301394,\n",
              " 0.31366813090385304]"
            ]
          },
          "metadata": {},
          "execution_count": 32
        }
      ]
    },
    {
      "cell_type": "code",
      "source": [
        "#sent features: 2. capital words\n",
        "def capital_or_not(word):\n",
        "  for i in range(len(word)):\n",
        "    if word[i].isupper() == True and i != 0:\n",
        "      return 1\n",
        "  return 0\n",
        "\n",
        "def Capital_letters(real_sentences):\n",
        "  \"\"\"\n",
        "  Input: A list of sentences (sentences).\n",
        "  Output: Normalized capital word score for each sentence\n",
        "  \"\"\"\n",
        "  cp_score = []\n",
        "  for sent in real_sentences:\n",
        "    if len(sent) == 0:\n",
        "      cp_score.append(0)\n",
        "      continue\n",
        "    temp = 0\n",
        "    words = word_tokenize(sent)\n",
        "    for word in words:\n",
        "      if word.isalpha() and capital_or_not(word) == 1:\n",
        "        if word.isupper():\n",
        "          temp += 2\n",
        "        else:\n",
        "          temp += 1\n",
        "    temp = float(temp)/len(words)\n",
        "    cp_score.append(temp)\n",
        "  max_val = max(cp_score)\n",
        "  for i in range(len(cp_score)):\n",
        "    cp_score[i] = float(cp_score[i])/max_val\n",
        "  return cp_score"
      ],
      "metadata": {
        "id": "MP8itrSfGAUK"
      },
      "execution_count": null,
      "outputs": []
    },
    {
      "cell_type": "code",
      "source": [
        "Capital_letters(sents)"
      ],
      "metadata": {
        "colab": {
          "base_uri": "https://localhost:8080/"
        },
        "id": "9afJIJhMpAbw",
        "outputId": "2fb4f305-a012-4b91-edc7-3d1c9b469133"
      },
      "execution_count": null,
      "outputs": [
        {
          "output_type": "execute_result",
          "data": {
            "text/plain": [
              "[0.0,\n",
              " 0.0,\n",
              " 0.0,\n",
              " 1.0,\n",
              " 0.0,\n",
              " 0.0,\n",
              " 0.0,\n",
              " 0.0,\n",
              " 0.0,\n",
              " 0.0,\n",
              " 0.6363636363636365,\n",
              " 0.4666666666666667,\n",
              " 0.0,\n",
              " 0.0,\n",
              " 0.2413793103448276,\n",
              " 0.0,\n",
              " 0.0,\n",
              " 0.0,\n",
              " 0.16279069767441862,\n",
              " 0.411764705882353]"
            ]
          },
          "metadata": {},
          "execution_count": 34
        }
      ]
    },
    {
      "cell_type": "code",
      "source": [
        "#sent features: 3. similarity with other sentences\n",
        "from sklearn.feature_extraction.text import CountVectorizer\n",
        "from sklearn.metrics.pairwise import cosine_similarity\n",
        "\n",
        "def similarity_sent(sentences):\n",
        "  \"\"\"\n",
        "  Input: A list of sentences (sentences).\n",
        "  Output: Normalized cosine similarity score for each sentence\n",
        "  \"\"\"\n",
        "  sim_score_sent = []\n",
        "  vectorizer = CountVectorizer().fit_transform(sentences) # CountVectorizer to convert sentences to a bag-of-words representation\n",
        "  sim_matrix = cosine_similarity(vectorizer, vectorizer)\n",
        "  for i in range(len(sentences)):\n",
        "    x = sum(sim_matrix[i])/float(len(sim_matrix[0]))\n",
        "    sim_score_sent.append(x)\n",
        "  max_val = max(sim_score_sent)\n",
        "  for i in range(len(sim_score_sent)):\n",
        "    x = sim_score_sent[i]/max_val\n",
        "    sim_score_sent[i] = 1 - x\n",
        "  return sim_score_sent"
      ],
      "metadata": {
        "id": "cm2QQX3gGKBq"
      },
      "execution_count": null,
      "outputs": []
    },
    {
      "cell_type": "code",
      "source": [
        "similarity_sent(final_sents)"
      ],
      "metadata": {
        "colab": {
          "base_uri": "https://localhost:8080/"
        },
        "id": "Zx6_eT_tqKot",
        "outputId": "d8215f6e-7aa9-42ec-c793-2f7a6e11192f"
      },
      "execution_count": null,
      "outputs": [
        {
          "output_type": "execute_result",
          "data": {
            "text/plain": [
              "[0.349903113735722,\n",
              " 0.3642881128401467,\n",
              " 0.0,\n",
              " 0.7327982944386009,\n",
              " 0.24095412028097485,\n",
              " 0.405975555213528,\n",
              " 0.01712893835032081,\n",
              " 0.4173963726254787,\n",
              " 0.28309269613031673,\n",
              " 0.3298438584373843,\n",
              " 0.6882646768450345,\n",
              " 0.231604953825588,\n",
              " 0.6913238050535118,\n",
              " 0.4971878942202531,\n",
              " 0.42786850630981244,\n",
              " 0.37751757949387743,\n",
              " 0.25033500438411116,\n",
              " 0.30825752859514866,\n",
              " 0.4194023376298912,\n",
              " 0.35413315521640343]"
            ]
          },
          "metadata": {},
          "execution_count": 36
        }
      ]
    },
    {
      "cell_type": "code",
      "execution_count": null,
      "metadata": {
        "id": "tOtb62m2vybS"
      },
      "outputs": [],
      "source": [
        "#sent features: 4. keywords\n",
        "keywords = ['financial statement',\n",
        "             'annual report',\n",
        "             'growth',\n",
        "             'audit committee',\n",
        "             'executive director',\n",
        "             'chairman',\n",
        "             'stock',\n",
        "             'shareholder',\n",
        "             'stockholder',\n",
        "             'dividend',\n",
        "             'share',\n",
        "             'acquisition',\n",
        "             'year end',\n",
        "             'this year',\n",
        "             'annual report account',\n",
        "             'board of directors',\n",
        "             'million',\n",
        "             'account',\n",
        "             'production',\n",
        "             'revenue',\n",
        "             'company',\n",
        "             'business',\n",
        "             'plc',\n",
        "             'profit']\n",
        "keywords2 = ['cost',\n",
        "             'result',\n",
        "             'strategy',\n",
        "             'service',\n",
        "             'management']\n",
        "\n",
        "\n",
        "def keyword_sent(sentences):\n",
        "  \"\"\"\n",
        "  Input: A list of sentences (sentences).\n",
        "  Output: Normalized key word score for each sentence\n",
        "  \"\"\"\n",
        "  k_score_sent = []\n",
        "  for sent in sentences:\n",
        "    if len(sent) == 0:\n",
        "      k_score_sent.append(0)\n",
        "      continue\n",
        "    score = 0\n",
        "    words = word_tokenize(sent)\n",
        "    for kw in keywords:\n",
        "      if kw in sent:\n",
        "        score += 1\n",
        "    score = float(score)/len(words)\n",
        "    k_score_sent.append(score)\n",
        "  max_val = max(k_score_sent)\n",
        "  for i in range(len(k_score_sent)):\n",
        "    k_score_sent[i] = float(k_score_sent[i])/max_val\n",
        "  return k_score_sent"
      ]
    },
    {
      "cell_type": "code",
      "source": [
        "keyword_sent(final_sents)"
      ],
      "metadata": {
        "colab": {
          "base_uri": "https://localhost:8080/"
        },
        "id": "Y0trsX09sbM6",
        "outputId": "7c9d14f4-84f8-43d2-ed36-a75542f44bb8"
      },
      "execution_count": null,
      "outputs": [
        {
          "output_type": "execute_result",
          "data": {
            "text/plain": [
              "[0.32142857142857145,\n",
              " 0.17647058823529413,\n",
              " 0.27272727272727276,\n",
              " 0.0,\n",
              " 0.6000000000000001,\n",
              " 0.0,\n",
              " 1.0,\n",
              " 0.0,\n",
              " 0.2,\n",
              " 0.42857142857142855,\n",
              " 0.0,\n",
              " 0.6666666666666666,\n",
              " 0.0,\n",
              " 0.5454545454545455,\n",
              " 0.21428571428571427,\n",
              " 0.0,\n",
              " 0.0,\n",
              " 0.0,\n",
              " 0.0,\n",
              " 0.0]"
            ]
          },
          "metadata": {},
          "execution_count": 38
        }
      ]
    },
    {
      "cell_type": "code",
      "execution_count": null,
      "metadata": {
        "id": "PzH3DHfAwpAW"
      },
      "outputs": [],
      "source": [
        "#sent features: 5. content words\n",
        "def Content_word(cleaned_sentences):\n",
        "  \"\"\"\n",
        "  Input: A list of sentences (sentences).\n",
        "  Output: Normalized token word score for each sentence\n",
        "  \"\"\"\n",
        "  noun_verb = [\"NN\", \"NNS\", \"NNP\", \"NNPS\", \"VB\", \"VBD\", \"VBG\", \"VBN\", \"VBP\", \"VBZ\"]\n",
        "  adjective_adverb = [\"JJ\", \"JJR\", \"JJS\", \"RB\", \"RBR\", \"RBS\"]\n",
        "  content_score_sent = []\n",
        "  for sent in cleaned_sentences:\n",
        "    if len(sent) == 0:\n",
        "      content_score_sent.append(0)\n",
        "      continue\n",
        "    score = 0\n",
        "    for tup in sent:\n",
        "      if tup[1] in noun_verb:\n",
        "        score += 2\n",
        "      elif tup[1] in adjective_adverb:\n",
        "        score += 1\n",
        "    score = float(score) / len(sent)\n",
        "    content_score_sent.append(score)\n",
        "  max_val = max(content_score_sent)\n",
        "  for i in range(len(content_score_sent)):\n",
        "    content_score_sent[i] = float(content_score_sent[i])/max_val\n",
        "  return content_score_sent"
      ]
    },
    {
      "cell_type": "code",
      "source": [
        "Content_word(pos_tups)"
      ],
      "metadata": {
        "colab": {
          "base_uri": "https://localhost:8080/"
        },
        "id": "86Sn51zts8AH",
        "outputId": "bcc94d3e-518b-4959-e0b0-b80e2be05e84"
      },
      "execution_count": null,
      "outputs": [
        {
          "output_type": "execute_result",
          "data": {
            "text/plain": [
              "[0.875,\n",
              " 0.7352941176470589,\n",
              " 0.8636363636363636,\n",
              " 0.625,\n",
              " 0.8666666666666667,\n",
              " 0.875,\n",
              " 0.6666666666666666,\n",
              " 0.8529411764705882,\n",
              " 0.8666666666666667,\n",
              " 0.8571428571428571,\n",
              " 1.0,\n",
              " 0.8333333333333334,\n",
              " 0.7857142857142857,\n",
              " 0.7727272727272727,\n",
              " 0.9285714285714286,\n",
              " 0.9230769230769231,\n",
              " 0.7352941176470589,\n",
              " 0.875,\n",
              " 0.8478260869565217,\n",
              " 0.8333333333333334]"
            ]
          },
          "metadata": {},
          "execution_count": 40
        }
      ]
    },
    {
      "cell_type": "code",
      "execution_count": null,
      "metadata": {
        "id": "iWaE3vdKyjOs"
      },
      "outputs": [],
      "source": [
        "def get_sent_features(text):\n",
        "  \"\"\"\n",
        "  Input: Text file\n",
        "  Output: The sentences and 5 features for each sentence\n",
        "  \"\"\"\n",
        "  sentences = get_sentences(text)\n",
        "  sentences = remove_short_sentences(sentences)\n",
        "  sentences_0 = remove_addresses(sentences)\n",
        "  sentences_1 =  remove_special_characters(sentences_0)\n",
        "  sentences_2 =  remove_numerical_values(sentences_1)\n",
        "\n",
        "  sent, tuples_sent, N = preprocessing(sentences_2)\n",
        "  cleared_sent = tup_sent(tuples_sent)\n",
        "\n",
        "  tfisf = tf_isf(cleared_sent)\n",
        "  cap = Capital_letters(sent)\n",
        "  sim = similarity_sent(cleared_sent)\n",
        "  kw = keyword_sent(cleared_sent)\n",
        "  cont = Content_word(tuples_sent)\n",
        "\n",
        "  features = []\n",
        "  for i in range(N):\n",
        "    temp = [tfisf[i], cap[i], sim[i], kw[i], cont[i]]\n",
        "    features.append(temp)\n",
        "  return sentences, features, [tfisf, cap, sim, kw, cont]"
      ]
    },
    {
      "cell_type": "code",
      "source": [
        "sents, feats, _ = get_sent_features(ar_text)\n",
        "for i in range(10, 12):\n",
        "  print(sents[i])\n",
        "  print(\"Features: \"+str(feats[i])+'\\n')"
      ],
      "metadata": {
        "colab": {
          "base_uri": "https://localhost:8080/"
        },
        "id": "to7BJRc1_VOu",
        "outputId": "bbf00b1d-6567-413a-c83c-116c471bebdd"
      },
      "execution_count": null,
      "outputs": [
        {
          "output_type": "stream",
          "name": "stdout",
          "text": [
            "Strategic growth opportunities will be pursued \n",
            "actively\n",
            "Mediterranean Oil & Gas Plc (‘MOG’ or the ‘Company’) is \n",
            "an Aim listed oil & gas production, development and \n",
            "exploration company which owns and operates assets \n",
            "in the central Mediterranean region.\n",
            "\n",
            "Features: [0.4304628319474851, 0.027777777777777776, 0.2675397237814324, 0.32, 0.94]\n",
            "\n",
            "“ The work undertaken over the past 12 months has \n",
            "significantly strengthened the Group’s technical and \n",
            "commercial position in the Mediterranean.” \n",
            " \n",
            "Features: [0.4242524215832532, 0.0, 0.4936470492508891, 0.0, 0.7083333333333334]\n",
            "\n"
          ]
        }
      ]
    },
    {
      "cell_type": "markdown",
      "source": [
        "# **Fuzzy Analysis**"
      ],
      "metadata": {
        "id": "6WiiuJJNligU"
      }
    },
    {
      "cell_type": "code",
      "source": [
        "#file created by combining individual feature files for all training annual reports\n",
        "file = pd.read_csv('/content/drive/MyDrive/NLP/training_data_feat_complete.csv')\n",
        "file = file.iloc[:, 1:]\n",
        "file = file.dropna()\n",
        "file.head()"
      ],
      "metadata": {
        "id": "nwZ64i23R-Vu",
        "colab": {
          "base_uri": "https://localhost:8080/",
          "height": 206
        },
        "outputId": "5d8acb61-ae23-43e6-cb7c-819d790cf8da"
      },
      "execution_count": null,
      "outputs": [
        {
          "output_type": "execute_result",
          "data": {
            "text/plain": [
              "                                           Sentences     tfisf   capital  \\\n",
              "0   Darty plc Annual report 2013/14\\nAnnual repor...  0.365608  0.000000   \n",
              "1  CONTENTS\\nOverview\\n01  Group at a glance\\n02 ...  0.505029  0.090909   \n",
              "2                    Our markets\\n05  Strategy\\n06    1.260592  0.000000   \n",
              "3  Our business model and strategy\\n07  Chief exe...  0.038922  0.031579   \n",
              "4  Shareholder information\\n132 Group five-year s...  0.312055  0.000000   \n",
              "\n",
              "   sent_similarity   keyword  content_words  class  \n",
              "0         0.450426  0.500000       0.916667      0  \n",
              "1         0.578855  0.166667       1.000000      0  \n",
              "2         0.866590  0.000000       0.666667      0  \n",
              "3         0.063381  0.077922       0.954545      0  \n",
              "4         0.547423  0.250000       0.916667      0  "
            ],
            "text/html": [
              "\n",
              "  <div id=\"df-2ffc138f-0e60-4b52-9e69-6e927db29647\" class=\"colab-df-container\">\n",
              "    <div>\n",
              "<style scoped>\n",
              "    .dataframe tbody tr th:only-of-type {\n",
              "        vertical-align: middle;\n",
              "    }\n",
              "\n",
              "    .dataframe tbody tr th {\n",
              "        vertical-align: top;\n",
              "    }\n",
              "\n",
              "    .dataframe thead th {\n",
              "        text-align: right;\n",
              "    }\n",
              "</style>\n",
              "<table border=\"1\" class=\"dataframe\">\n",
              "  <thead>\n",
              "    <tr style=\"text-align: right;\">\n",
              "      <th></th>\n",
              "      <th>Sentences</th>\n",
              "      <th>tfisf</th>\n",
              "      <th>capital</th>\n",
              "      <th>sent_similarity</th>\n",
              "      <th>keyword</th>\n",
              "      <th>content_words</th>\n",
              "      <th>class</th>\n",
              "    </tr>\n",
              "  </thead>\n",
              "  <tbody>\n",
              "    <tr>\n",
              "      <th>0</th>\n",
              "      <td>Darty plc Annual report 2013/14\\nAnnual repor...</td>\n",
              "      <td>0.365608</td>\n",
              "      <td>0.000000</td>\n",
              "      <td>0.450426</td>\n",
              "      <td>0.500000</td>\n",
              "      <td>0.916667</td>\n",
              "      <td>0</td>\n",
              "    </tr>\n",
              "    <tr>\n",
              "      <th>1</th>\n",
              "      <td>CONTENTS\\nOverview\\n01  Group at a glance\\n02 ...</td>\n",
              "      <td>0.505029</td>\n",
              "      <td>0.090909</td>\n",
              "      <td>0.578855</td>\n",
              "      <td>0.166667</td>\n",
              "      <td>1.000000</td>\n",
              "      <td>0</td>\n",
              "    </tr>\n",
              "    <tr>\n",
              "      <th>2</th>\n",
              "      <td>Our markets\\n05  Strategy\\n06</td>\n",
              "      <td>1.260592</td>\n",
              "      <td>0.000000</td>\n",
              "      <td>0.866590</td>\n",
              "      <td>0.000000</td>\n",
              "      <td>0.666667</td>\n",
              "      <td>0</td>\n",
              "    </tr>\n",
              "    <tr>\n",
              "      <th>3</th>\n",
              "      <td>Our business model and strategy\\n07  Chief exe...</td>\n",
              "      <td>0.038922</td>\n",
              "      <td>0.031579</td>\n",
              "      <td>0.063381</td>\n",
              "      <td>0.077922</td>\n",
              "      <td>0.954545</td>\n",
              "      <td>0</td>\n",
              "    </tr>\n",
              "    <tr>\n",
              "      <th>4</th>\n",
              "      <td>Shareholder information\\n132 Group five-year s...</td>\n",
              "      <td>0.312055</td>\n",
              "      <td>0.000000</td>\n",
              "      <td>0.547423</td>\n",
              "      <td>0.250000</td>\n",
              "      <td>0.916667</td>\n",
              "      <td>0</td>\n",
              "    </tr>\n",
              "  </tbody>\n",
              "</table>\n",
              "</div>\n",
              "    <div class=\"colab-df-buttons\">\n",
              "\n",
              "  <div class=\"colab-df-container\">\n",
              "    <button class=\"colab-df-convert\" onclick=\"convertToInteractive('df-2ffc138f-0e60-4b52-9e69-6e927db29647')\"\n",
              "            title=\"Convert this dataframe to an interactive table.\"\n",
              "            style=\"display:none;\">\n",
              "\n",
              "  <svg xmlns=\"http://www.w3.org/2000/svg\" height=\"24px\" viewBox=\"0 -960 960 960\">\n",
              "    <path d=\"M120-120v-720h720v720H120Zm60-500h600v-160H180v160Zm220 220h160v-160H400v160Zm0 220h160v-160H400v160ZM180-400h160v-160H180v160Zm440 0h160v-160H620v160ZM180-180h160v-160H180v160Zm440 0h160v-160H620v160Z\"/>\n",
              "  </svg>\n",
              "    </button>\n",
              "\n",
              "  <style>\n",
              "    .colab-df-container {\n",
              "      display:flex;\n",
              "      gap: 12px;\n",
              "    }\n",
              "\n",
              "    .colab-df-convert {\n",
              "      background-color: #E8F0FE;\n",
              "      border: none;\n",
              "      border-radius: 50%;\n",
              "      cursor: pointer;\n",
              "      display: none;\n",
              "      fill: #1967D2;\n",
              "      height: 32px;\n",
              "      padding: 0 0 0 0;\n",
              "      width: 32px;\n",
              "    }\n",
              "\n",
              "    .colab-df-convert:hover {\n",
              "      background-color: #E2EBFA;\n",
              "      box-shadow: 0px 1px 2px rgba(60, 64, 67, 0.3), 0px 1px 3px 1px rgba(60, 64, 67, 0.15);\n",
              "      fill: #174EA6;\n",
              "    }\n",
              "\n",
              "    .colab-df-buttons div {\n",
              "      margin-bottom: 4px;\n",
              "    }\n",
              "\n",
              "    [theme=dark] .colab-df-convert {\n",
              "      background-color: #3B4455;\n",
              "      fill: #D2E3FC;\n",
              "    }\n",
              "\n",
              "    [theme=dark] .colab-df-convert:hover {\n",
              "      background-color: #434B5C;\n",
              "      box-shadow: 0px 1px 3px 1px rgba(0, 0, 0, 0.15);\n",
              "      filter: drop-shadow(0px 1px 2px rgba(0, 0, 0, 0.3));\n",
              "      fill: #FFFFFF;\n",
              "    }\n",
              "  </style>\n",
              "\n",
              "    <script>\n",
              "      const buttonEl =\n",
              "        document.querySelector('#df-2ffc138f-0e60-4b52-9e69-6e927db29647 button.colab-df-convert');\n",
              "      buttonEl.style.display =\n",
              "        google.colab.kernel.accessAllowed ? 'block' : 'none';\n",
              "\n",
              "      async function convertToInteractive(key) {\n",
              "        const element = document.querySelector('#df-2ffc138f-0e60-4b52-9e69-6e927db29647');\n",
              "        const dataTable =\n",
              "          await google.colab.kernel.invokeFunction('convertToInteractive',\n",
              "                                                    [key], {});\n",
              "        if (!dataTable) return;\n",
              "\n",
              "        const docLinkHtml = 'Like what you see? Visit the ' +\n",
              "          '<a target=\"_blank\" href=https://colab.research.google.com/notebooks/data_table.ipynb>data table notebook</a>'\n",
              "          + ' to learn more about interactive tables.';\n",
              "        element.innerHTML = '';\n",
              "        dataTable['output_type'] = 'display_data';\n",
              "        await google.colab.output.renderOutput(dataTable, element);\n",
              "        const docLink = document.createElement('div');\n",
              "        docLink.innerHTML = docLinkHtml;\n",
              "        element.appendChild(docLink);\n",
              "      }\n",
              "    </script>\n",
              "  </div>\n",
              "\n",
              "\n",
              "<div id=\"df-92345a9b-9cb0-46da-969d-d2eacbf411f3\">\n",
              "  <button class=\"colab-df-quickchart\" onclick=\"quickchart('df-92345a9b-9cb0-46da-969d-d2eacbf411f3')\"\n",
              "            title=\"Suggest charts\"\n",
              "            style=\"display:none;\">\n",
              "\n",
              "<svg xmlns=\"http://www.w3.org/2000/svg\" height=\"24px\"viewBox=\"0 0 24 24\"\n",
              "     width=\"24px\">\n",
              "    <g>\n",
              "        <path d=\"M19 3H5c-1.1 0-2 .9-2 2v14c0 1.1.9 2 2 2h14c1.1 0 2-.9 2-2V5c0-1.1-.9-2-2-2zM9 17H7v-7h2v7zm4 0h-2V7h2v10zm4 0h-2v-4h2v4z\"/>\n",
              "    </g>\n",
              "</svg>\n",
              "  </button>\n",
              "\n",
              "<style>\n",
              "  .colab-df-quickchart {\n",
              "      --bg-color: #E8F0FE;\n",
              "      --fill-color: #1967D2;\n",
              "      --hover-bg-color: #E2EBFA;\n",
              "      --hover-fill-color: #174EA6;\n",
              "      --disabled-fill-color: #AAA;\n",
              "      --disabled-bg-color: #DDD;\n",
              "  }\n",
              "\n",
              "  [theme=dark] .colab-df-quickchart {\n",
              "      --bg-color: #3B4455;\n",
              "      --fill-color: #D2E3FC;\n",
              "      --hover-bg-color: #434B5C;\n",
              "      --hover-fill-color: #FFFFFF;\n",
              "      --disabled-bg-color: #3B4455;\n",
              "      --disabled-fill-color: #666;\n",
              "  }\n",
              "\n",
              "  .colab-df-quickchart {\n",
              "    background-color: var(--bg-color);\n",
              "    border: none;\n",
              "    border-radius: 50%;\n",
              "    cursor: pointer;\n",
              "    display: none;\n",
              "    fill: var(--fill-color);\n",
              "    height: 32px;\n",
              "    padding: 0;\n",
              "    width: 32px;\n",
              "  }\n",
              "\n",
              "  .colab-df-quickchart:hover {\n",
              "    background-color: var(--hover-bg-color);\n",
              "    box-shadow: 0 1px 2px rgba(60, 64, 67, 0.3), 0 1px 3px 1px rgba(60, 64, 67, 0.15);\n",
              "    fill: var(--button-hover-fill-color);\n",
              "  }\n",
              "\n",
              "  .colab-df-quickchart-complete:disabled,\n",
              "  .colab-df-quickchart-complete:disabled:hover {\n",
              "    background-color: var(--disabled-bg-color);\n",
              "    fill: var(--disabled-fill-color);\n",
              "    box-shadow: none;\n",
              "  }\n",
              "\n",
              "  .colab-df-spinner {\n",
              "    border: 2px solid var(--fill-color);\n",
              "    border-color: transparent;\n",
              "    border-bottom-color: var(--fill-color);\n",
              "    animation:\n",
              "      spin 1s steps(1) infinite;\n",
              "  }\n",
              "\n",
              "  @keyframes spin {\n",
              "    0% {\n",
              "      border-color: transparent;\n",
              "      border-bottom-color: var(--fill-color);\n",
              "      border-left-color: var(--fill-color);\n",
              "    }\n",
              "    20% {\n",
              "      border-color: transparent;\n",
              "      border-left-color: var(--fill-color);\n",
              "      border-top-color: var(--fill-color);\n",
              "    }\n",
              "    30% {\n",
              "      border-color: transparent;\n",
              "      border-left-color: var(--fill-color);\n",
              "      border-top-color: var(--fill-color);\n",
              "      border-right-color: var(--fill-color);\n",
              "    }\n",
              "    40% {\n",
              "      border-color: transparent;\n",
              "      border-right-color: var(--fill-color);\n",
              "      border-top-color: var(--fill-color);\n",
              "    }\n",
              "    60% {\n",
              "      border-color: transparent;\n",
              "      border-right-color: var(--fill-color);\n",
              "    }\n",
              "    80% {\n",
              "      border-color: transparent;\n",
              "      border-right-color: var(--fill-color);\n",
              "      border-bottom-color: var(--fill-color);\n",
              "    }\n",
              "    90% {\n",
              "      border-color: transparent;\n",
              "      border-bottom-color: var(--fill-color);\n",
              "    }\n",
              "  }\n",
              "</style>\n",
              "\n",
              "  <script>\n",
              "    async function quickchart(key) {\n",
              "      const quickchartButtonEl =\n",
              "        document.querySelector('#' + key + ' button');\n",
              "      quickchartButtonEl.disabled = true;  // To prevent multiple clicks.\n",
              "      quickchartButtonEl.classList.add('colab-df-spinner');\n",
              "      try {\n",
              "        const charts = await google.colab.kernel.invokeFunction(\n",
              "            'suggestCharts', [key], {});\n",
              "      } catch (error) {\n",
              "        console.error('Error during call to suggestCharts:', error);\n",
              "      }\n",
              "      quickchartButtonEl.classList.remove('colab-df-spinner');\n",
              "      quickchartButtonEl.classList.add('colab-df-quickchart-complete');\n",
              "    }\n",
              "    (() => {\n",
              "      let quickchartButtonEl =\n",
              "        document.querySelector('#df-92345a9b-9cb0-46da-969d-d2eacbf411f3 button');\n",
              "      quickchartButtonEl.style.display =\n",
              "        google.colab.kernel.accessAllowed ? 'block' : 'none';\n",
              "    })();\n",
              "  </script>\n",
              "</div>\n",
              "\n",
              "    </div>\n",
              "  </div>\n"
            ]
          },
          "metadata": {},
          "execution_count": 6
        }
      ]
    },
    {
      "cell_type": "code",
      "source": [
        "#unique values for each features\n",
        "!unzip '/content/drive/MyDrive/NLP/unique_feats.zip'\n",
        "df1 = pd.read_csv('/content/unique_feats/tfisf_unique.csv')\n",
        "df1 =sorted(list(np.array(df1.iloc[:, 1])))\n",
        "df2 = pd.read_csv('/content/unique_feats/capital_unique.csv')\n",
        "df2 = sorted(list(np.array(df2.iloc[:, 1])))\n",
        "df3 = pd.read_csv('/content/unique_feats/sent_similarity_unique.csv')\n",
        "df3 = sorted(list(np.array(df3.iloc[:, 1])))\n",
        "df4 = pd.read_csv('/content/unique_feats/keyword_unique.csv')\n",
        "df4 = sorted(list(np.array(df4.iloc[:, 1])))\n",
        "df5 = pd.read_csv('/content/unique_feats/content_words_unique.csv')\n",
        "df5 = sorted(list(np.array(df5.iloc[:, 1])))"
      ],
      "metadata": {
        "id": "7M6m7KHEhNB3",
        "colab": {
          "base_uri": "https://localhost:8080/"
        },
        "outputId": "86cb54a8-14f3-4b78-a0f5-338e65ea1d3c"
      },
      "execution_count": null,
      "outputs": [
        {
          "output_type": "stream",
          "name": "stdout",
          "text": [
            "Archive:  /content/drive/MyDrive/NLP/unique_feats.zip\n",
            "   creating: unique_feats/\n",
            "  inflating: unique_feats/capital_unique.csv  \n",
            "  inflating: unique_feats/content_words_unique.csv  \n",
            "  inflating: unique_feats/keyword_unique.csv  \n",
            "  inflating: unique_feats/sent_similarity_unique.csv  \n",
            "  inflating: unique_feats/tfisf_unique.csv  \n"
          ]
        }
      ]
    },
    {
      "cell_type": "code",
      "source": [
        "#input variables for the fuzzy control system\n",
        "tfisf_var = ctrl.Antecedent(df1, 'tfisf_var')\n",
        "cap_var = ctrl.Antecedent(df2, 'cap_var')\n",
        "sim_var = ctrl.Antecedent(df3, 'sim_var')\n",
        "kw_var = ctrl.Antecedent(df4, 'kw_var')\n",
        "cont_var = ctrl.Antecedent(df5, 'cont_var')\n",
        "\n",
        "#ouput variable for the fuzzy control system\n",
        "senten = ctrl.Consequent(np.arange(0, 100), 'senten')"
      ],
      "metadata": {
        "id": "FBiAbcIyuVHh"
      },
      "execution_count": null,
      "outputs": []
    },
    {
      "cell_type": "markdown",
      "source": [
        "![Screenshot from 2024-02-05 05-57-27.png](data:image/png;base64,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)\n",
        "\n",
        "[link to the paper](https://doi.org/10.22115/scce.2017.48336)"
      ],
      "metadata": {
        "id": "g0tY-oiwn4U5"
      }
    },
    {
      "cell_type": "code",
      "source": [
        "param = {}\n",
        "for col in list(file.columns)[1:-1]:\n",
        "  col_values = file[col]\n",
        "  mean = np.mean(col_values)\n",
        "  stdev = np.std(col_values)\n",
        "\n",
        "  sorted_col_values = sorted(col_values)\n",
        "  for i in range(len(sorted_col_values)):\n",
        "    if sorted_col_values[i] == mean:\n",
        "      start = i\n",
        "      for j in range(i, len(sorted_col_values)):\n",
        "        if sorted_col_values[j] > mean:\n",
        "          break\n",
        "      end = j\n",
        "      break\n",
        "    elif sorted_col_values[i] > mean:\n",
        "      start = i\n",
        "      end = i\n",
        "      break\n",
        "  L_M = np.sum(sorted_col_values[:end])\n",
        "  R_M = np.sum(sorted_col_values[start:])\n",
        "  S = L_M/float(R_M)\n",
        "\n",
        "  sd_R = stdev/(1+S)\n",
        "  sd_L = sd_R*S\n",
        "\n",
        "  LL = mean - sd_L\n",
        "  UL = mean + sd_R\n",
        "\n",
        "  param[col] = [LL, mean, UL]\n",
        "\n",
        "for key, value in param.items():\n",
        "    print(key+\": \"+str(value))"
      ],
      "metadata": {
        "id": "M6Mu5TqUrl80",
        "colab": {
          "base_uri": "https://localhost:8080/"
        },
        "outputId": "3cddd69d-6a32-47c0-948b-30c3a75a7cd7"
      },
      "execution_count": null,
      "outputs": [
        {
          "output_type": "stream",
          "name": "stdout",
          "text": [
            "tfisf: [0.2536065401119694, 0.451889034786618, 0.7418356339182273]\n",
            "capital: [0.032327843324523646, 0.03584718414607536, 0.13846605432493106]\n",
            "sent_similarity: [0.6053414174965925, 0.6728208678734243, 0.8016282437281385]\n",
            "keyword: [0.0722868213327332, 0.08087860069935249, 0.2011177326738737]\n",
            "content_words: [0.8051227029902677, 0.8495309264259594, 0.9164887501389241]\n"
          ]
        }
      ]
    },
    {
      "cell_type": "code",
      "execution_count": null,
      "metadata": {
        "id": "NfsDEJjt_41e"
      },
      "outputs": [],
      "source": [
        "tfisf_var['low'] = fuzz.trimf(tfisf_var.universe, [0, 0, param['tfisf'][1]])\n",
        "tfisf_var['mid'] = fuzz.trimf(tfisf_var.universe, [param['tfisf'][0], param['tfisf'][1], param['tfisf'][2]])\n",
        "tfisf_var['high'] = fuzz.trimf(tfisf_var.universe, [param['tfisf'][1], 9.962982124321767, 9.962982124321767])\n",
        "\n",
        "cap_var['low'] = fuzz.trimf(cap_var.universe, [0, 0, param['capital'][1]])\n",
        "cap_var['mid'] = fuzz.trimf(cap_var.universe, [param['capital'][0], param['capital'][1], param['capital'][2]])\n",
        "cap_var['high'] = fuzz.trimf(cap_var.universe, [param['capital'][1], 1.0, 1.0])\n",
        "\n",
        "sim_var['low'] = fuzz.trimf(sim_var.universe, [0, 0, param['sent_similarity'][1]])\n",
        "sim_var['mid'] = fuzz.trimf(sim_var.universe, [param['sent_similarity'][0], param['sent_similarity'][1], param['sent_similarity'][2]])\n",
        "sim_var['high'] = fuzz.trimf(sim_var.universe, [param['sent_similarity'][1], 1.0, 1.0])\n",
        "\n",
        "kw_var['low'] = fuzz.trimf(kw_var.universe, [0, 0, param['keyword'][1]])\n",
        "kw_var['mid'] = fuzz.trimf(kw_var.universe, [param['keyword'][0], param['keyword'][1], param['keyword'][2]])\n",
        "kw_var['high'] = fuzz.trimf(kw_var.universe, [param['keyword'][1], 1.0, 1.0])\n",
        "\n",
        "cont_var['low'] = fuzz.trimf(cont_var.universe, [0, 0, param['content_words'][1]])\n",
        "cont_var['mid'] = fuzz.trimf(cont_var.universe, [param['content_words'][0], param['content_words'][1], param['content_words'][2]])\n",
        "cont_var['high'] = fuzz.trimf(cont_var.universe, [param['content_words'][1], 1.0, 1.0])\n",
        "\n",
        "senten['very bad'] = fuzz.trimf(senten.universe, [0, 0, 25])\n",
        "senten['bad'] = fuzz.trimf(senten.universe, [0, 25, 50])\n",
        "senten['avg'] = fuzz.trimf(senten.universe, [25, 50, 75])\n",
        "senten['good'] = fuzz.trimf(senten.universe, [50, 75, 100])\n",
        "senten['best'] = fuzz.trimf(senten.universe, [75, 100, 100])"
      ]
    },
    {
      "cell_type": "code",
      "source": [
        "rule1 = ctrl.Rule(sim_var['low'], senten['very bad'])\n",
        "rule2 = ctrl.Rule(sim_var['mid'] & (cont_var['high'] | cont_var['mid']), senten['bad'])\n",
        "rule3 = ctrl.Rule(sim_var['high'] & (cont_var['high'] | cont_var['mid']), senten['avg'])\n",
        "rule4 = ctrl.Rule(sim_var['mid'] & cont_var['low'], senten['avg'])\n",
        "rule5 = ctrl.Rule(sim_var['high'] & cont_var['low'], senten['good'])\n",
        "rule6 = ctrl.Rule(tfisf_var['high'], senten['best'])\n",
        "rule7 = ctrl.Rule(tfisf_var['mid'] & cont_var['low'], senten['good'])\n",
        "rule8 = ctrl.Rule(tfisf_var['low'], senten['very bad'])\n",
        "rule9 = ctrl.Rule(tfisf_var['mid'] & (cont_var['high'] | cont_var['mid']), senten['avg'])"
      ],
      "metadata": {
        "id": "d0LB8egpI0K1"
      },
      "execution_count": null,
      "outputs": []
    },
    {
      "cell_type": "code",
      "source": [
        "sent_ctrl = ctrl.ControlSystem([rule1, rule2, rule3, rule4, rule5, rule6, rule7, rule8, rule9])\n",
        "Sent = ctrl.ControlSystemSimulation(sent_ctrl)"
      ],
      "metadata": {
        "id": "nfiUqV4_mFJX"
      },
      "execution_count": null,
      "outputs": []
    },
    {
      "cell_type": "code",
      "source": [
        "def find_summary_sentences(scores, n):\n",
        "  import copy\n",
        "  temp = sorted(list(set(copy.copy(scores))), reverse=True)\n",
        "  if n < len(temp):\n",
        "    temp = temp[:n]\n",
        "  temp2 = []\n",
        "  for x in temp:\n",
        "    temp2.append((x[1], x[0]))\n",
        "  return len(temp2), sorted(temp2)"
      ],
      "metadata": {
        "id": "57WMVOIn4xiq"
      },
      "execution_count": null,
      "outputs": []
    },
    {
      "cell_type": "code",
      "source": [
        "def find_summary(file, n):\n",
        "  summary=[]\n",
        "  scores1 = []\n",
        "  scores2 = []\n",
        "  for i in range(len(file)):\n",
        "    Sent.input['tfisf_var'] = file.iloc[i, 2]\n",
        "    Sent.input['sim_var'] = file.iloc[i, 4]\n",
        "    Sent.input['cont_var'] = file.iloc[i, 6]\n",
        "    Sent.compute()\n",
        "    x = Sent.output['senten']\n",
        "    #Sent.print_state()\n",
        "    if x >= 75:\n",
        "      scores1.append((x, i))\n",
        "    elif x >= 50 and x < 75:\n",
        "      scores2.append((x, i))\n",
        "  n1, first = find_summary_sentences(scores1, n)\n",
        "  if n1 != n:\n",
        "    n2, second = find_summary_sentences(scores2, n-n1)\n",
        "    first.extend(second)\n",
        "  index = sorted(first)\n",
        "  for x in index:\n",
        "      summary.append(file.iloc[x[0], 1])\n",
        "  for i in range(len(summary)):\n",
        "    x = summary[i]\n",
        "    if type(x) == 'str':\n",
        "      x = x.replace('\\n', ' ')\n",
        "    summary[i] = str(x)\n",
        "  return summary"
      ],
      "metadata": {
        "id": "D4fT-m6qmONz"
      },
      "execution_count": null,
      "outputs": []
    },
    {
      "cell_type": "code",
      "source": [
        "!unzip '/content/drive/MyDrive/NLP/validation_features.zip'"
      ],
      "metadata": {
        "id": "Vqp26caP0EEJ",
        "colab": {
          "base_uri": "https://localhost:8080/"
        },
        "outputId": "3ab9afcd-4a52-422a-91bd-2e80c70d104e"
      },
      "execution_count": null,
      "outputs": [
        {
          "output_type": "stream",
          "name": "stdout",
          "text": [
            "Archive:  /content/drive/MyDrive/NLP/validation_features.zip\n",
            "   creating: validation_features/\n",
            "  inflating: validation_features/31127.csv  \n",
            "  inflating: validation_features/32144.csv  \n",
            "  inflating: validation_features/32809.csv  \n",
            "  inflating: validation_features/31646.csv  \n",
            "  inflating: validation_features/32140.csv  \n",
            "  inflating: validation_features/32157.csv  \n",
            "  inflating: validation_features/32143.csv  \n",
            "  inflating: validation_features/32562.csv  \n",
            "  inflating: validation_features/32553.csv  \n",
            "  inflating: validation_features/30874.csv  \n",
            "  inflating: validation_features/32773.csv  \n",
            "  inflating: validation_features/30947.csv  \n",
            "  inflating: validation_features/31568.csv  \n",
            "  inflating: validation_features/31632.csv  \n",
            "  inflating: validation_features/31811.csv  \n",
            "  inflating: validation_features/32034.csv  \n",
            "  inflating: validation_features/30952.csv  \n",
            "  inflating: validation_features/31938.csv  \n",
            "  inflating: validation_features/30821.csv  \n",
            "  inflating: validation_features/31942.csv  \n",
            "  inflating: validation_features/32135.csv  \n",
            "  inflating: validation_features/30850.csv  \n",
            "  inflating: validation_features/31508.csv  \n",
            "  inflating: validation_features/31628.csv  \n",
            "  inflating: validation_features/31567.csv  \n",
            "  inflating: validation_features/31677.csv  \n",
            "  inflating: validation_features/32437.csv  \n",
            "  inflating: validation_features/33154.csv  \n",
            "  inflating: validation_features/32071.csv  \n",
            "  inflating: validation_features/32107.csv  \n",
            "  inflating: validation_features/31058.csv  \n",
            "  inflating: validation_features/30815.csv  \n",
            "  inflating: validation_features/33053.csv  \n",
            "  inflating: validation_features/32545.csv  \n",
            "  inflating: validation_features/31224.csv  \n",
            "  inflating: validation_features/31664.csv  \n",
            "  inflating: validation_features/31101.csv  \n",
            "  inflating: validation_features/32555.csv  \n",
            "  inflating: validation_features/32531.csv  \n",
            "  inflating: validation_features/33098.csv  \n",
            "  inflating: validation_features/32874.csv  \n",
            "  inflating: validation_features/31469.csv  \n",
            "  inflating: validation_features/31654.csv  \n",
            "  inflating: validation_features/32061.csv  \n",
            "  inflating: validation_features/32609.csv  \n",
            "  inflating: validation_features/31914.csv  \n",
            "  inflating: validation_features/32376.csv  \n",
            "  inflating: validation_features/30808.csv  \n",
            "  inflating: validation_features/31618.csv  \n",
            "  inflating: validation_features/31631.csv  \n",
            "  inflating: validation_features/30940.csv  \n",
            "  inflating: validation_features/32149.csv  \n",
            "  inflating: validation_features/31254.csv  \n",
            "  inflating: validation_features/30954.csv  \n",
            "  inflating: validation_features/31462.csv  \n",
            "  inflating: validation_features/32272.csv  \n",
            "  inflating: validation_features/30816.csv  \n",
            "  inflating: validation_features/31851.csv  \n",
            "  inflating: validation_features/30854.csv  \n",
            "  inflating: validation_features/31036.csv  \n",
            "  inflating: validation_features/31784.csv  \n",
            "  inflating: validation_features/30822.csv  \n",
            "  inflating: validation_features/32602.csv  \n",
            "  inflating: validation_features/30902.csv  \n",
            "  inflating: validation_features/32156.csv  \n",
            "  inflating: validation_features/32966.csv  \n",
            "  inflating: validation_features/32236.csv  \n",
            "  inflating: validation_features/31926.csv  \n",
            "  inflating: validation_features/30830.csv  \n",
            "  inflating: validation_features/32042.csv  \n",
            "  inflating: validation_features/32074.csv  \n",
            "  inflating: validation_features/31383.csv  \n",
            "  inflating: validation_features/30913.csv  \n",
            "  inflating: validation_features/31678.csv  \n",
            "  inflating: validation_features/31546.csv  \n",
            "  inflating: validation_features/32825.csv  \n",
            "  inflating: validation_features/32886.csv  \n",
            "  inflating: validation_features/31854.csv  \n",
            "  inflating: validation_features/31050.csv  \n",
            "  inflating: validation_features/32378.csv  \n",
            "  inflating: validation_features/31969.csv  \n",
            "  inflating: validation_features/32599.csv  \n",
            "  inflating: validation_features/32859.csv  \n",
            "  inflating: validation_features/32688.csv  \n",
            "  inflating: validation_features/32771.csv  \n",
            "  inflating: validation_features/32684.csv  \n",
            "  inflating: validation_features/32355.csv  \n",
            "  inflating: validation_features/31109.csv  \n",
            "  inflating: validation_features/32964.csv  \n",
            "  inflating: validation_features/30967.csv  \n",
            "  inflating: validation_features/32865.csv  \n",
            "  inflating: validation_features/32561.csv  \n",
            "  inflating: validation_features/31984.csv  \n",
            "  inflating: validation_features/31061.csv  \n",
            "  inflating: validation_features/31705.csv  \n",
            "  inflating: validation_features/33018.csv  \n",
            "  inflating: validation_features/30901.csv  \n",
            "  inflating: validation_features/30924.csv  \n",
            "  inflating: validation_features/32557.csv  \n",
            "  inflating: validation_features/32148.csv  \n",
            "  inflating: validation_features/32286.csv  \n",
            "  inflating: validation_features/31399.csv  \n",
            "  inflating: validation_features/31074.csv  \n",
            "  inflating: validation_features/30817.csv  \n",
            "  inflating: validation_features/32025.csv  \n",
            "  inflating: validation_features/32648.csv  \n",
            "  inflating: validation_features/32548.csv  \n",
            "  inflating: validation_features/31850.csv  \n",
            "  inflating: validation_features/32180.csv  \n",
            "  inflating: validation_features/30858.csv  \n",
            "  inflating: validation_features/33037.csv  \n",
            "  inflating: validation_features/32141.csv  \n",
            "  inflating: validation_features/30813.csv  \n",
            "  inflating: validation_features/30781.csv  \n",
            "  inflating: validation_features/31514.csv  \n",
            "  inflating: validation_features/31681.csv  \n",
            "  inflating: validation_features/30927.csv  \n",
            "  inflating: validation_features/32392.csv  \n",
            "  inflating: validation_features/32196.csv  \n",
            "  inflating: validation_features/30820.csv  \n",
            "  inflating: validation_features/31478.csv  \n",
            "  inflating: validation_features/31685.csv  \n",
            "  inflating: validation_features/32032.csv  \n",
            "  inflating: validation_features/30982.csv  \n",
            "  inflating: validation_features/32020.csv  \n",
            "  inflating: validation_features/32424.csv  \n",
            "  inflating: validation_features/32623.csv  \n",
            "  inflating: validation_features/31517.csv  \n",
            "  inflating: validation_features/31306.csv  \n",
            "  inflating: validation_features/31634.csv  \n",
            "  inflating: validation_features/31220.csv  \n",
            "  inflating: validation_features/31315.csv  \n",
            "  inflating: validation_features/33090.csv  \n",
            "  inflating: validation_features/32583.csv  \n",
            "  inflating: validation_features/30783.csv  \n",
            "  inflating: validation_features/31005.csv  \n",
            "  inflating: validation_features/31474.csv  \n",
            "  inflating: validation_features/31484.csv  \n",
            "  inflating: validation_features/32480.csv  \n",
            "  inflating: validation_features/33130.csv  \n",
            "  inflating: validation_features/32150.csv  \n",
            "  inflating: validation_features/32223.csv  \n",
            "  inflating: validation_features/30903.csv  \n",
            "  inflating: validation_features/31959.csv  \n",
            "  inflating: validation_features/33038.csv  \n",
            "  inflating: validation_features/31955.csv  \n",
            "  inflating: validation_features/31023.csv  \n",
            "  inflating: validation_features/32452.csv  \n",
            "  inflating: validation_features/31202.csv  \n",
            "  inflating: validation_features/33097.csv  \n",
            "  inflating: validation_features/30941.csv  \n",
            "  inflating: validation_features/32185.csv  \n",
            "  inflating: validation_features/32389.csv  \n",
            "  inflating: validation_features/32051.csv  \n",
            "  inflating: validation_features/30795.csv  \n",
            "  inflating: validation_features/33027.csv  \n",
            "  inflating: validation_features/32734.csv  \n",
            "  inflating: validation_features/31363.csv  \n",
            "  inflating: validation_features/32129.csv  \n",
            "  inflating: validation_features/31033.csv  \n",
            "  inflating: validation_features/31329.csv  \n",
            "  inflating: validation_features/32176.csv  \n",
            "  inflating: validation_features/32170.csv  \n",
            "  inflating: validation_features/31146.csv  \n",
            "  inflating: validation_features/32380.csv  \n",
            "  inflating: validation_features/30904.csv  \n",
            "  inflating: validation_features/30960.csv  \n",
            "  inflating: validation_features/31242.csv  \n",
            "  inflating: validation_features/32359.csv  \n",
            "  inflating: validation_features/31620.csv  \n",
            "  inflating: validation_features/32538.csv  \n",
            "  inflating: validation_features/31844.csv  \n",
            "  inflating: validation_features/31063.csv  \n",
            "  inflating: validation_features/30895.csv  \n",
            "  inflating: validation_features/31014.csv  \n",
            "  inflating: validation_features/32541.csv  \n",
            "  inflating: validation_features/30796.csv  \n",
            "  inflating: validation_features/32384.csv  \n",
            "  inflating: validation_features/31831.csv  \n",
            "  inflating: validation_features/31271.csv  \n",
            "  inflating: validation_features/30948.csv  \n",
            "  inflating: validation_features/31114.csv  \n",
            "  inflating: validation_features/32097.csv  \n",
            "  inflating: validation_features/31589.csv  \n",
            "  inflating: validation_features/32879.csv  \n",
            "  inflating: validation_features/31843.csv  \n",
            "  inflating: validation_features/32394.csv  \n",
            "  inflating: validation_features/31769.csv  \n",
            "  inflating: validation_features/30777.csv  \n",
            "  inflating: validation_features/31659.csv  \n",
            "  inflating: validation_features/30800.csv  \n",
            "  inflating: validation_features/31699.csv  \n",
            "  inflating: validation_features/31650.csv  \n",
            "  inflating: validation_features/30886.csv  \n",
            "  inflating: validation_features/30950.csv  \n",
            "  inflating: validation_features/32220.csv  \n",
            "  inflating: validation_features/31757.csv  \n",
            "  inflating: validation_features/31608.csv  \n",
            "  inflating: validation_features/32854.csv  \n",
            "  inflating: validation_features/30920.csv  \n",
            "  inflating: validation_features/32098.csv  \n",
            "  inflating: validation_features/30778.csv  \n",
            "  inflating: validation_features/31274.csv  \n",
            "  inflating: validation_features/31452.csv  \n",
            "  inflating: validation_features/30849.csv  \n",
            "  inflating: validation_features/31872.csv  \n",
            "  inflating: validation_features/31979.csv  \n",
            "  inflating: validation_features/31204.csv  \n",
            "  inflating: validation_features/32349.csv  \n",
            "  inflating: validation_features/31042.csv  \n",
            "  inflating: validation_features/32155.csv  \n",
            "  inflating: validation_features/31817.csv  \n",
            "  inflating: validation_features/31617.csv  \n",
            "  inflating: validation_features/30899.csv  \n",
            "  inflating: validation_features/30966.csv  \n",
            "  inflating: validation_features/32067.csv  \n",
            "  inflating: validation_features/31316.csv  \n",
            "  inflating: validation_features/32248.csv  \n",
            "  inflating: validation_features/30991.csv  \n",
            "  inflating: validation_features/32939.csv  \n",
            "  inflating: validation_features/30855.csv  \n",
            "  inflating: validation_features/31512.csv  \n",
            "  inflating: validation_features/31013.csv  \n",
            "  inflating: validation_features/30922.csv  \n",
            "  inflating: validation_features/31601.csv  \n",
            "  inflating: validation_features/31015.csv  \n",
            "  inflating: validation_features/32540.csv  \n",
            "  inflating: validation_features/32343.csv  \n",
            "  inflating: validation_features/31857.csv  \n",
            "  inflating: validation_features/31983.csv  \n",
            "  inflating: validation_features/31655.csv  \n",
            "  inflating: validation_features/32116.csv  \n",
            "  inflating: validation_features/31260.csv  \n",
            "  inflating: validation_features/31846.csv  \n",
            "  inflating: validation_features/32190.csv  \n",
            "  inflating: validation_features/31319.csv  \n",
            "  inflating: validation_features/31022.csv  \n",
            "  inflating: validation_features/31866.csv  \n",
            "  inflating: validation_features/32092.csv  \n",
            "  inflating: validation_features/32616.csv  \n",
            "  inflating: validation_features/33070.csv  \n",
            "  inflating: validation_features/31950.csv  \n",
            "  inflating: validation_features/33054.csv  \n",
            "  inflating: validation_features/31277.csv  \n",
            "  inflating: validation_features/31824.csv  \n",
            "  inflating: validation_features/31265.csv  \n",
            "  inflating: validation_features/31987.csv  \n",
            "  inflating: validation_features/30943.csv  \n",
            "  inflating: validation_features/31008.csv  \n",
            "  inflating: validation_features/32004.csv  \n",
            "  inflating: validation_features/32936.csv  \n",
            "  inflating: validation_features/31595.csv  \n",
            "  inflating: validation_features/30894.csv  \n",
            "  inflating: validation_features/32717.csv  \n",
            "  inflating: validation_features/31648.csv  \n",
            "  inflating: validation_features/33029.csv  \n",
            "  inflating: validation_features/30866.csv  \n",
            "  inflating: validation_features/31506.csv  \n",
            "  inflating: validation_features/32136.csv  \n",
            "  inflating: validation_features/32168.csv  \n",
            "  inflating: validation_features/30946.csv  \n",
            "  inflating: validation_features/31492.csv  \n",
            "  inflating: validation_features/32072.csv  \n",
            "  inflating: validation_features/32165.csv  \n",
            "  inflating: validation_features/32177.csv  \n",
            "  inflating: validation_features/31292.csv  \n",
            "  inflating: validation_features/31839.csv  \n",
            "  inflating: validation_features/30962.csv  \n",
            "  inflating: validation_features/31165.csv  \n",
            "  inflating: validation_features/31059.csv  \n",
            "  inflating: validation_features/31889.csv  \n",
            "  inflating: validation_features/31203.csv  \n",
            "  inflating: validation_features/33083.csv  \n",
            "  inflating: validation_features/31026.csv  \n",
            "  inflating: validation_features/31509.csv  \n",
            "  inflating: validation_features/32113.csv  \n",
            "  inflating: validation_features/32849.csv  \n",
            "  inflating: validation_features/30838.csv  \n",
            "  inflating: validation_features/31064.csv  \n",
            "  inflating: validation_features/32693.csv  \n",
            "  inflating: validation_features/32556.csv  \n",
            "  inflating: validation_features/30782.csv  \n",
            "  inflating: validation_features/31794.csv  \n",
            "  inflating: validation_features/30887.csv  \n",
            "  inflating: validation_features/32340.csv  \n",
            "  inflating: validation_features/31358.csv  \n",
            "  inflating: validation_features/32186.csv  \n",
            "  inflating: validation_features/31610.csv  \n",
            "  inflating: validation_features/32560.csv  \n",
            "  inflating: validation_features/31201.csv  \n",
            "  inflating: validation_features/31661.csv  \n",
            "  inflating: validation_features/32139.csv  \n",
            "  inflating: validation_features/31855.csv  \n",
            "  inflating: validation_features/30819.csv  \n",
            "  inflating: validation_features/31879.csv  \n",
            "  inflating: validation_features/33036.csv  \n",
            "  inflating: validation_features/32179.csv  \n",
            "  inflating: validation_features/31333.csv  \n",
            "  inflating: validation_features/30968.csv  \n",
            "  inflating: validation_features/30897.csv  \n",
            "  inflating: validation_features/32657.csv  \n",
            "  inflating: validation_features/32217.csv  \n",
            "  inflating: validation_features/31573.csv  \n",
            "  inflating: validation_features/31948.csv  \n",
            "  inflating: validation_features/33155.csv  \n",
            "  inflating: validation_features/33057.csv  \n",
            "  inflating: validation_features/31424.csv  \n",
            "  inflating: validation_features/31105.csv  \n",
            "  inflating: validation_features/32134.csv  \n",
            "  inflating: validation_features/30779.csv  \n",
            "  inflating: validation_features/31513.csv  \n",
            "  inflating: validation_features/31007.csv  \n",
            "  inflating: validation_features/30790.csv  \n",
            "  inflating: validation_features/32926.csv  \n",
            "  inflating: validation_features/31633.csv  \n",
            "  inflating: validation_features/32414.csv  \n",
            "  inflating: validation_features/31040.csv  \n",
            "  inflating: validation_features/31540.csv  \n",
            "  inflating: validation_features/31290.csv  \n",
            "  inflating: validation_features/31336.csv  \n",
            "  inflating: validation_features/31053.csv  \n",
            "  inflating: validation_features/31755.csv  \n",
            "  inflating: validation_features/30907.csv  \n",
            "  inflating: validation_features/32810.csv  \n",
            "  inflating: validation_features/32044.csv  \n",
            "  inflating: validation_features/31940.csv  \n",
            "  inflating: validation_features/30888.csv  \n",
            "  inflating: validation_features/32408.csv  \n",
            "  inflating: validation_features/31440.csv  \n",
            "  inflating: validation_features/32651.csv  \n",
            "  inflating: validation_features/30841.csv  \n",
            "  inflating: validation_features/32848.csv  \n",
            "  inflating: validation_features/32482.csv  \n",
            "  inflating: validation_features/31939.csv  \n",
            "  inflating: validation_features/32345.csv  \n",
            "  inflating: validation_features/31604.csv  \n",
            "  inflating: validation_features/32543.csv  \n",
            "  inflating: validation_features/33035.csv  \n",
            "  inflating: validation_features/31766.csv  \n",
            "  inflating: validation_features/31623.csv  \n",
            "  inflating: validation_features/32021.csv  \n",
            "  inflating: validation_features/32229.csv  \n",
            "  inflating: validation_features/31038.csv  \n",
            "  inflating: validation_features/30852.csv  \n",
            "  inflating: validation_features/32792.csv  \n",
            "  inflating: validation_features/30856.csv  \n",
            "  inflating: validation_features/30965.csv  \n",
            "  inflating: validation_features/31012.csv  \n",
            "  inflating: validation_features/31076.csv  \n",
            "  inflating: validation_features/32163.csv  \n",
            "  inflating: validation_features/30785.csv  \n",
            "  inflating: validation_features/31970.csv  \n",
            "  inflating: validation_features/31031.csv  \n",
            "  inflating: validation_features/31037.csv  \n",
            "  inflating: validation_features/32954.csv  \n",
            "  inflating: validation_features/31828.csv  \n",
            "  inflating: validation_features/32183.csv  \n",
            "  inflating: validation_features/31834.csv  \n",
            "  inflating: validation_features/33039.csv  \n",
            "  inflating: validation_features/32597.csv  \n",
            "  inflating: validation_features/32197.csv  \n",
            "  inflating: validation_features/32333.csv  \n",
            "  inflating: validation_features/31034.csv  \n"
          ]
        }
      ]
    },
    {
      "cell_type": "code",
      "source": [
        "path = '/content/validation_features'\n",
        "cont = os.listdir(path)\n",
        "ll = '/content/drive/MyDrive/NLP/system_summary'\n",
        "contt = os.listdir(ll)\n",
        "for x in contt:\n",
        "  y = x.split('_')[0] + '.csv'\n",
        "  cont.remove(y)\n",
        "i = 0\n",
        "for x in cont:\n",
        " try:\n",
        "  pt_fl = os.path.join(path, x)\n",
        "  df = pd.read_csv(pt_fl)\n",
        "  lines = find_summary(df, 50)\n",
        "  name = x.split('.')[0]+'_system1.txt'\n",
        "  fl = open('/content/drive/MyDrive/NLP/system_summary/'+name, 'w')\n",
        "  for line in lines:\n",
        "    fl.write(line+'\\n')\n",
        "  fl.close()\n",
        "  print(len(cont)-i)\n",
        "  i += 1\n",
        " except:\n",
        "  print(\"ERROR: \"+x)"
      ],
      "metadata": {
        "id": "X576qC02mg0U"
      },
      "execution_count": null,
      "outputs": []
    },
    {
      "cell_type": "code",
      "source": [
        "path = '/content/validation_features'\n",
        "cont = ['31631.csv']\n",
        "for x in cont:\n",
        "  pt_fl = os.path.join(path, x)\n",
        "  df = pd.read_csv(pt_fl)\n",
        "  lines = find_summary(df, 50)\n",
        "  name = x.split('.')[0]+'_system1.txt'\n",
        "  fl = open('/content/drive/MyDrive/NLP/system_summary/'+name, 'w')\n",
        "  for line in lines:\n",
        "    fl.write(line+'\\n')\n",
        "  fl.close()\n",
        "  print(len(cont)-i)\n",
        "  i += 1"
      ],
      "metadata": {
        "colab": {
          "base_uri": "https://localhost:8080/"
        },
        "id": "vUqrVkvHt6Wa",
        "outputId": "d5ae5a61-9e07-48c1-e8fb-d3dc163a1222"
      },
      "execution_count": null,
      "outputs": [
        {
          "output_type": "stream",
          "name": "stdout",
          "text": [
            "1\n"
          ]
        }
      ]
    }
  ],
  "metadata": {
    "colab": {
      "provenance": []
    },
    "kernelspec": {
      "display_name": "Python 3",
      "name": "python3"
    },
    "language_info": {
      "codemirror_mode": {
        "name": "ipython",
        "version": 3
      },
      "file_extension": ".py",
      "mimetype": "text/x-python",
      "name": "python",
      "nbconvert_exporter": "python",
      "pygments_lexer": "ipython3",
      "version": "3.10.9"
    },
    "accelerator": "TPU"
  },
  "nbformat": 4,
  "nbformat_minor": 0
}